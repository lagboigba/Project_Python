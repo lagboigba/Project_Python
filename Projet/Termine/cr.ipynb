{
 "cells": [
  {
   "cell_type": "code",
   "execution_count": null,
   "metadata": {},
   "outputs": [],
   "source": [
    "! pip install -r requirements.txt"
   ]
  },
  {
   "cell_type": "markdown",
   "metadata": {
    "collapsed": true
   },
   "source": [
    "#Compte Rendu - Analyse 60 Millions de consommateurs"
   ]
  },
  {
   "cell_type": "markdown",
   "metadata": {},
   "source": [
    "## Partie 1 : Analyse d’un classement de couches-culottes pour enfants"
   ]
  },
  {
   "cell_type": "markdown",
   "metadata": {},
   "source": [
    "Code Source"
   ]
  },
  {
   "cell_type": "code",
   "execution_count": null,
   "metadata": {},
   "outputs": [],
   "source": [
    "import csv\n",
    "import numpy as np\n",
    "from optlang import Model, Variable, Constraint, Objective"
   ]
  },
  {
   "cell_type": "code",
   "execution_count": null,
   "metadata": {},
   "outputs": [],
   "source": [
    "def readFileCSVData(file):\n",
    "    \"\"\"\n",
    "    Lit un fichier CSV et retourne YYYY\n",
    "    :param file:\n",
    "    :return: ponderation : list\n",
    "             data : list\n",
    "             result : list\n",
    "    \"\"\"\n",
    "    ponderation = []\n",
    "    data = []\n",
    "    result = []  #derniere colonne\n",
    "    with open(file, newline='', encoding='utf-8') as f:\n",
    "        reader = csv.reader(f, delimiter=';')\n",
    "        for row in reader:\n",
    "            if row[0] == '':  #lecture des ponderations\n",
    "                for i in range(1, len(row) - 1):\n",
    "                    ponderation.append(float(row[i]))\n",
    "            else:  #lecture des donnees et des resultats\n",
    "                #donnees contient les notes et result la moyenne\n",
    "                temp = []\n",
    "                for i in range(1, len(row) - 1):\n",
    "                    temp.append(row[i])\n",
    "                #dicodata={row[0]:temp}\n",
    "                #dicoresult={row[0]:float(row[len(row)-1])}\n",
    "                data.append([row[0], temp])\n",
    "                result.append([row[0], float(row[len(row) - 1])])\n",
    "\n",
    "    return ponderation, data, result\n"
   ]
  },
  {
   "cell_type": "code",
   "execution_count": null,
   "metadata": {},
   "outputs": [],
   "source": [
    "def readFileCSVInterval(file):\n",
    "    intervalle = {}\n",
    "    with open(file, newline='', encoding='utf-8') as f:\n",
    "        reader = csv.reader(f, delimiter=';')\n",
    "        for row in reader:\n",
    "            intervalle[row[0]] = [float(row[1]), float(row[2])]\n",
    "    return intervalle\n"
   ]
  },
  {
   "cell_type": "code",
   "execution_count": null,
   "metadata": {},
   "outputs": [],
   "source": [
    "def createModel2(ponderation, data, result, intervalle, fixed):\n",
    "    \"\"\"\n",
    "    fixed = True ===> fixer les variables f (question 2.1)\n",
    "    fixed = False ===> ne pas fixer les variables f (question 2.2)\n",
    "    \"\"\"\n",
    "    nbelements = len(data)\n",
    "    nbcriteres = len(ponderation)\n",
    "    #creation des variables\n",
    "    U = []\n",
    "    f = []\n",
    "    for i in range(nbelements):\n",
    "        x = Variable(\"f\" + str(i + 1), lb=0)\n",
    "        f.append(x)\n",
    "        x = []\n",
    "        for j in range(nbcriteres):\n",
    "            x1 = Variable(\"U\" + str(i + 1) + str(j + 1), lb=0)\n",
    "            x.append(x1)\n",
    "        U.append(x)\n",
    "\n",
    "    #creation des contraintes (1) a (15)\n",
    "    C = []\n",
    "    for i in range(nbelements):\n",
    "        calcul = 0\n",
    "        for j in range(nbcriteres):\n",
    "            calcul += ponderation[j] * U[i][j]\n",
    "        c = Constraint(calcul - f[i], ub=0, lb=0)\n",
    "        C.append(c)\n",
    "\n",
    "    #creation des contraintes (16) a (19)\n",
    "\n",
    "    for i in range(len(result) - 1):\n",
    "        if result[i][1] == result[i + 1][1]:\n",
    "            c = Constraint(f[i] - f[i + 1], ub=0, lb=0)\n",
    "            C.append(c)\n",
    "        else:\n",
    "            c = Constraint(f[i] - f[i + 1] - 0.1, lb=0)\n",
    "            C.append(c)\n",
    "\n",
    "    #creation des contraintes (20) a (29)\n",
    "    for i in range(nbelements):\n",
    "        for j in range(nbcriteres):\n",
    "            c = Constraint(U[i][j], ub=intervalle.get(data[i][1][j])[1], lb=intervalle.get(data[i][1][j])[0])\n",
    "            C.append(c)\n",
    "\n",
    "    #Fixation des variables f\n",
    "    if fixed:\n",
    "        for i in range(nbelements):\n",
    "            c = Constraint(f[i], lb=result[i][1], ub=result[i][1])\n",
    "            C.append(c)\n",
    "    #\n",
    "\n",
    "    obj = Objective(f[0], direction='max')\n",
    "    model = Model(name='Modele')\n",
    "    model.objective = obj\n",
    "    model.add(C)\n",
    "    return model"
   ]
  },
  {
   "cell_type": "code",
   "execution_count": null,
   "metadata": {},
   "outputs": [],
   "source": [
    "def createModel3(ponderation, data, result, intervalle):\n",
    "    nbelements = len(data)\n",
    "    nbcriteres = len(ponderation)\n",
    "    #creation des variables\n",
    "    U = []\n",
    "    f = []\n",
    "    for i in range(nbelements):\n",
    "        x = Variable(\"f\" + str(i + 1), lb=0)\n",
    "        f.append(x)\n",
    "        x = []\n",
    "        for j in range(nbcriteres):\n",
    "            x1 = Variable(\"U\" + str(i + 1) + str(j + 1), lb=0)\n",
    "            x.append(x1)\n",
    "        U.append(x)\n",
    "\n",
    "    #creation des contraintes (1) a (15)\n",
    "    C = []\n",
    "    for i in range(nbelements):\n",
    "        calcul = 0\n",
    "        for j in range(nbcriteres):\n",
    "            calcul += ponderation[j] * U[i][j]\n",
    "        c = Constraint(calcul - f[i], ub=0, lb=0)\n",
    "        C.append(c)\n",
    "\n",
    "    #creation des contraintes (16) a (19)\n",
    "    for i in range(len(result) - 1):\n",
    "\n",
    "        if i == 3 or i == 8:\n",
    "            continue\n",
    "\n",
    "        elif result[i][1] == result[i + 1][1]:\n",
    "            c = Constraint(f[i] - f[i + 1], ub=0, lb=0)\n",
    "            C.append(c)\n",
    "        else:\n",
    "            c = Constraint(f[i] - f[i + 1] - 0.1, lb=0)\n",
    "            C.append(c)\n",
    "\n",
    "    #creation des contraintes (20) a (29)\n",
    "    for i in range(nbelements):\n",
    "        for j in range(nbcriteres):\n",
    "            if i == 1 and j == 2:\n",
    "                c = Constraint(U[i][j], ub=intervalle.get(data[i][1][j])[1])\n",
    "                C.append(c)\n",
    "            else:\n",
    "                c = Constraint(U[i][j], ub=intervalle.get(data[i][1][j])[1], lb=intervalle.get(data[i][1][j])[0])\n",
    "                C.append(c)\n",
    "\n",
    "    obj = Objective(f[0], direction='max')\n",
    "    model = Model(name='Modele')\n",
    "    model.objective = obj\n",
    "\n",
    "    model.add(C)\n",
    "    return model"
   ]
  },
  {
   "cell_type": "code",
   "execution_count": null,
   "metadata": {},
   "outputs": [],
   "source": [
    "def createModel4(ponderation, data, result, intervalle):\n",
    "    nbelements = len(data)\n",
    "    nbcriteres = len(ponderation)\n",
    "    #creation des variables\n",
    "    U = []\n",
    "    f = []\n",
    "    for i in range(nbelements):\n",
    "        x = Variable(\"f\" + str(i + 1), lb=0)\n",
    "        f.append(x)\n",
    "        x = []\n",
    "        for j in range(nbcriteres):\n",
    "            x1 = Variable(\"U\" + str(i + 1) + str(j + 1), lb=0)\n",
    "            x.append(x1)\n",
    "        U.append(x)\n",
    "\n",
    "    #creation des contraintes (1) a (15)\n",
    "    C = []\n",
    "    for i in range(nbelements):\n",
    "        calcul = 0\n",
    "        for j in range(nbcriteres):\n",
    "            calcul += ponderation[j] * U[i][j]\n",
    "        c = Constraint(calcul - f[i], ub=0, lb=0)\n",
    "        C.append(c)\n",
    "\n",
    "    #creation des contraintes (20) a (29)\n",
    "    for i in range(nbelements):\n",
    "        for j in range(nbcriteres):\n",
    "            c = Constraint(U[i][j], ub=intervalle.get(data[i][1][j])[1], lb=intervalle.get(data[i][1][j])[0])\n",
    "            C.append(c)\n",
    "\n",
    "    obj = Objective(f[0], direction='max')\n",
    "    model = Model(name='Modele')\n",
    "    model.objective = obj\n",
    "    #for u in U:\n",
    "    #model.add(u)\n",
    "    #model.add(f)\n",
    "    model.add(C)\n",
    "    return model"
   ]
  },
  {
   "cell_type": "code",
   "execution_count": null,
   "metadata": {},
   "outputs": [],
   "source": [
    "def CheckAdditiveModel(fileData, fileInt, question):\n",
    "    ponderation, data, result = readFileCSVData(fileData)\n",
    "    intervalle = readFileCSVInterval(fileInt)\n",
    "    if question == \"2.1\":\n",
    "        model = createModel2(ponderation, data, result, intervalle, False)\n",
    "    elif question == \"2.2\":\n",
    "        model = createModel2(ponderation, data, result, intervalle, True)\n",
    "    elif question == \"3\":\n",
    "        model = createModel3(ponderation, data, result, intervalle)\n",
    "    elif question == \"4\":\n",
    "        model = createModel4(ponderation, data, result, intervalle)\n",
    "    else:\n",
    "        print(\"Existe pas\")\n",
    "        return\n",
    "\n",
    "    status = model.optimize()\n",
    "    print(\"status:\", model.status)\n",
    "    print(\"objective value:\", model.objective.value)\n",
    "    print(\"----------\")\n",
    "    for var_name, var in model.variables.items():\n",
    "        if var_name.startswith(\"f\"):\n",
    "            print(var_name, \"=\", var.primal)\n"
   ]
  },
  {
   "cell_type": "markdown",
   "metadata": {},
   "source": [
    "Question\n",
    "1: CheckAdditiveModel"
   ]
  },
  {
   "cell_type": "code",
   "execution_count": null,
   "metadata": {},
   "outputs": [],
   "source": [
    "print(\"Question 2.1\")\n",
    "CheckAdditiveModel('criteres.csv', 'intervalles.csv', \"2.1\")"
   ]
  },
  {
   "cell_type": "markdown",
   "metadata": {},
   "source": [
    "Question 2.2"
   ]
  },
  {
   "cell_type": "code",
   "execution_count": null,
   "metadata": {},
   "outputs": [],
   "source": [
    "print(\"Question 2.2\")\n",
    "CheckAdditiveModel('criteres.csv', 'intervalles.csv', \"2.2\")"
   ]
  },
  {
   "cell_type": "markdown",
   "metadata": {},
   "source": [
    "Question 3"
   ]
  },
  {
   "cell_type": "markdown",
   "metadata": {},
   "source": []
  },
  {
   "cell_type": "markdown",
   "metadata": {},
   "source": []
  },
  {
   "cell_type": "code",
   "execution_count": null,
   "metadata": {},
   "outputs": [],
   "source": [
    "print(\"Question 4\")\n",
    "CheckAdditiveModel('criteres.csv', 'intervalles.csv', \"4\")"
   ]
  },
  {
   "cell_type": "markdown",
   "metadata": {},
   "source": [
    "Méthode 2 : ELECTRE TRI"
   ]
  },
  {
   "cell_type": "markdown",
   "metadata": {},
   "source": [
    "Question 5"
   ]
  },
  {
   "cell_type": "code",
   "execution_count": null,
   "metadata": {},
   "outputs": [],
   "source": [
    "def concordance_partiel(type, h, bi, j):\n",
    "    \"\"\"\n",
    "\n",
    "    :param h: 1 Couche-culotte (donc liste)\n",
    "    :param bi: profil (frontière qui YYYY)\n",
    "    :param j: critère\n",
    "    :return: 1 si H est au-moins aussi bon que bi sur le critère j, 0 sinon\n",
    "    \"\"\"\n",
    "    print('concord partielle')\n",
    "    print(\"h[j] : \", h[j])\n",
    "    print(\"bi[j] : \", bi[j])\n",
    "\n",
    "    if (type == 'max'):\n",
    "        if h[j] >= bi[j]:\n",
    "            print(\"h[j] >= bi[j]\")\n",
    "            return 1\n",
    "        else:\n",
    "            print(\"h[j] < bi[j]\")\n",
    "            return 0\n",
    "    elif (type == 'min'):\n",
    "        if h[j] <= bi[j]:\n",
    "            return 1\n",
    "        else:\n",
    "            return 0\n",
    "    else:\n",
    "        #print(\"Calcul concordance partielle impossible car type inconnu : \", type)\n",
    "        return -1"
   ]
  },
  {
   "cell_type": "code",
   "execution_count": null,
   "metadata": {},
   "outputs": [],
   "source": [
    "def concordanceGlobal(h, bi, poids, type):\n",
    "    \"\"\"\n",
    "    :param type: vecteur contenant ['min'/'max'] pour chaque critere\n",
    "    :param h: Couche culotte (liste)\n",
    "    :param bi: profil (frontière qui YYYY)\n",
    "    :param poids: vecteur contenant poids pour chaque critere\n",
    "    :return: indice de concordance global, -1 si erreur\n",
    "    \"\"\"\n",
    "    print(\" ~~~~~~~ \")\n",
    "    print('concordanceGlobal')\n",
    "    numerateur = 0.0\n",
    "    denom = 0.0\n",
    "    # Pour chaque critère j\n",
    "    #print('poids',poids)\n",
    "    #print('len(h)-1 = ',len(h))\n",
    "    for j in range(1, len(h)):\n",
    "        print(\"critère \", j)\n",
    "        numerateur += poids[j - 1] * concordance_partiel(type[j - 1], h, bi, j)  # len(poids) = len(h)-2\n",
    "        #TODO : si c'est correct, passer tout en list comprehension pour lisibilite\n",
    "        print('numerateur', numerateur)\n",
    "        denom += poids[j - 1]\n",
    "        print('denom', denom)\n",
    "        #print('----------------')\n",
    "        print('Ctemp(h,bi)', numerateur / denom)\n",
    "        print(\"\")\n",
    "    print('C(h,bi)', numerateur / denom)\n",
    "    print(\" ~~~~~~~ \")\n",
    "    return numerateur / denom"
   ]
  },
  {
   "cell_type": "code",
   "execution_count": null,
   "metadata": {},
   "outputs": [],
   "source": [
    "def Surclasse(seuilMajorite, h, bi, poids, type):\n",
    "    \"\"\"\n",
    "\n",
    "    :param type: vecteur contenant ['min'/'max'] pour chaque critere\n",
    "    :param seuilMajorite:\n",
    "    :param h:\n",
    "    :param bi:\n",
    "    :param poids:\n",
    "    :return:\n",
    "    \"\"\"\n",
    "    print(\"h \", h)\n",
    "    print(\"bi \", bi)\n",
    "    print(\"Question : h surclasse t'il bi ?\")\n",
    "    if concordanceGlobal(h, bi, poids, type) >= seuilMajorite:\n",
    "        print('Oui, H surclasse bi')\n",
    "        print(\"\")\n",
    "        return True\n",
    "    else:\n",
    "        print('Non, H ne surclasse pas bi')\n",
    "        print(\"\")\n",
    "        return False"
   ]
  },
  {
   "cell_type": "code",
   "execution_count": null,
   "metadata": {},
   "outputs": [],
   "source": [
    "def AffectationOptimiste(h, classement, poids, type, seuil):\n",
    "    \"\"\"\n",
    "\n",
    "    :param h:\n",
    "    :param classement:\n",
    "    :param poids:\n",
    "    :param type:\n",
    "    :param seuil:\n",
    "    :return:\n",
    "    \"\"\"\n",
    "    profil = len(classement) - 1  # OPTIMISATION : commencer à len -2 car len-1 est forcement surclassé\n",
    "    print('PROFIL ', profil)\n",
    "    #print('H sur profil :', Surclasse(seuil, h, classement[profil], poids, type))\n",
    "    #print('profil sur H : ', Surclasse(seuil, classement[profil], h, poids, type))\n",
    "    print(\"###############\")\n",
    "    while (not (Surclasse(seuil, classement[profil], h, poids, type)) or (\n",
    "    Surclasse(seuil, h, classement[profil], poids, type))):  # anciennement 'and'\n",
    "        print(\"Bilan : On passe au profil supérieur\")\n",
    "        print(\"###############\")\n",
    "        profil -= 1\n",
    "    return profil "
   ]
  },
  {
   "cell_type": "code",
   "execution_count": null,
   "metadata": {},
   "outputs": [],
   "source": [
    "def AffectationPessimiste(h, classement, poids, type, seuil):\n",
    "    \"\"\"\n",
    "\n",
    "    :param h:\n",
    "    :param classement:\n",
    "    :param poids:\n",
    "    :param type:\n",
    "    :param seuil:\n",
    "    :return:\n",
    "    \"\"\"\n",
    "    profil = 0\n",
    "    while not (Surclasse(seuil, h, classement[profil], poids, type)):\n",
    "        profil += 1\n",
    "    return profil"
   ]
  },
  {
   "cell_type": "code",
   "execution_count": null,
   "metadata": {},
   "outputs": [],
   "source": [
    "def EvalOptimiste(lesCouches, classement, poids, type, seuil):\n",
    "    \"\"\"\n",
    "\n",
    "    :param lesCouches:\n",
    "    :param classement:\n",
    "    :param poids:\n",
    "    :param type:\n",
    "    :param seuil:\n",
    "    :return:\n",
    "    \"\"\"\n",
    "    liste = []\n",
    "    dict = {}\n",
    "    # pour chaque element de la matrice (une couche culotte), en partant de l'indice max (matrice profils[i][0]), on....\n",
    "    print(\"Les couches\", lesCouches)\n",
    "    for couche in range(0, len(lesCouches)):  # len(lesCouches)+1 ?\n",
    "        dict[\"Couche \" + str(lesCouches[couche][0])] = categorie[\n",
    "            AffectationOptimiste(lesCouches[couche], classement, poids, type, seuil)]\n",
    "    return dict"
   ]
  },
  {
   "cell_type": "code",
   "execution_count": null,
   "metadata": {},
   "outputs": [],
   "source": [
    "def EvalPessimiste(lesCouches, classement, poids, type, seuil):\n",
    "    \"\"\"\n",
    "\n",
    "    :param lesCouches:\n",
    "    :param classement:\n",
    "    :param poids:\n",
    "    :param type:\n",
    "    :param seuil:\n",
    "    :return:\n",
    "    \"\"\"\n",
    "    liste = []\n",
    "    dict = {}\n",
    "    for couche in range(0, len(lesCouches)):  # len(lesCouches)+1 ?\n",
    "        # liste.append(\n",
    "        #     [\"Couche \" + str(lesCouches[couche][0]),classement[AffectationPessimiste(lesCouches[couche], classement, poids, type, seuil)][0]]\n",
    "        # )\n",
    "        #print(\"Couche \" + str(lesCouches[couche][0]) + \" :\",classement[AffectationPessimiste(lesCouches[couche], classement, poids, type, seuil)])\n",
    "        dict[\"Couche \" + str(lesCouches[couche][0])] = categorie[\n",
    "            AffectationPessimiste(lesCouches[couche], classement, poids, type, seuil) - 1]  #return liste\n",
    "    #return liste\n",
    "    return dict\n"
   ]
  },
  {
   "cell_type": "code",
   "execution_count": null,
   "metadata": {},
   "outputs": [],
   "source": [
    "import pandas as pd\n",
    "\n",
    "poids = [3 / 5, 2 / 5]\n",
    "types = ['max', 'max']\n",
    "SEUIL = 0.55\n",
    "mat = []\n",
    "matrice_profils = [\n",
    "    ['Profil 6 : Frontiere Le meilleur, impossible', 100, 100],\n",
    "    ['Profil 5 : Dans les premiers', 3, 3],\n",
    "    ['Profil 4 : Moyen +', 2, 2],\n",
    "    ['Profil 3 : Moyen -', 1, 1],\n",
    "    ['Profil 2 : Dans les derniers', -1, -1],\n",
    "    ['Profil 1 : Frontiere Le pire,impossible', -100, -100]\n",
    "]\n",
    "\n",
    "categorie = ['Très bon', 'Bon', 'Acceptable', 'Insuffisant', 'Inacceptable']\n"
   ]
  },
  {
   "cell_type": "code",
   "execution_count": null,
   "metadata": {},
   "outputs": [],
   "source": [
    "with open('mat.csv', 'r') as f:\n",
    "    reader = csv.reader(f, delimiter=';')\n",
    "    # on parse le fichier, en précisant les types pour chaque colonne\n",
    "    mat = [[row[0], int(row[1]), int(row[2])] for row in reader]"
   ]
  },
  {
   "cell_type": "markdown",
   "metadata": {},
   "source": []
  },
  {
   "cell_type": "code",
   "execution_count": null,
   "metadata": {},
   "outputs": [],
   "source": [
    "print(\"optimiste\")\n",
    "op = EvalOptimiste(mat, matrice_profils, poids, types, 0.55)\n",
    "print(\"pessimiste\")\n",
    "pe = EvalPessimiste(mat, matrice_profils, poids, types, 0.55)\n",
    "final_results = {key: [op[key], pe[key]] for key in op}\n",
    "final_results\n",
    "df = pd.DataFrame(final_results)\n",
    "df = pd.DataFrame.from_records(final_results).T\n",
    "df.columns = ['Electre Optimiste', 'Electre Pessimiste']"
   ]
  },
  {
   "cell_type": "code",
   "execution_count": null,
   "metadata": {},
   "outputs": [],
   "source": [
    "print(\"optimiste\")\n",
    "op = EvalOptimiste(mat, matrice_profils, poids, types, 0.75)\n",
    "print(\"pessimiste\")\n",
    "pe = EvalPessimiste(mat, matrice_profils, poids, types, 0.75)\n",
    "final_results = {key: [op[key], pe[key]] for key in op}\n",
    "final_results\n",
    "df = pd.DataFrame(final_results)\n",
    "df = pd.DataFrame.from_records(final_results).T\n",
    "df.columns = ['Electre Optimiste', 'Electre Pessimiste']"
   ]
  },
  {
   "cell_type": "markdown",
   "metadata": {},
   "source": [
    "Question 7"
   ]
  },
  {
   "cell_type": "code",
   "execution_count": null,
   "metadata": {},
   "outputs": [],
   "source": [
    "# TODO"
   ]
  },
  {
   "cell_type": "markdown",
   "metadata": {},
   "source": [
    "Question 8"
   ]
  },
  {
   "cell_type": "code",
   "execution_count": null,
   "metadata": {},
   "outputs": [],
   "source": [
    "class decisionnode:\n",
    "    def __init__(self, col=-1, value=None, results=None, tb=None, fb=None):\n",
    "        self.col = col  # column index of criteria being tested\n",
    "        self.value = value  # vlaue necessary to get a true result\n",
    "        self.results = results  # dict of results for a branch, None for everything except endpoints\n",
    "        self.tb = tb  # true decision nodes\n",
    "        self.fb = fb  # false decision nodes\n",
    "\n",
    "# Divides a set on a specific column. Can handle numeric or nominal values\n",
    "\n",
    "def divideset(rows, column, value):\n",
    "    # Make a function that tells us if a row is in the first group\n",
    "    # (true) or the second group (false)\n",
    "    split_function = None\n",
    "    # for numerical values\n",
    "    if isinstance(value, int) or isinstance(value, float):\n",
    "        split_function = lambda row: row[column] >= value\n",
    "    # for nominal values\n",
    "    else:\n",
    "        split_function = lambda row: row[column] == value\n",
    "\n",
    "    # Divide the rows into two sets and return them\n",
    "    set1 = [row for row in rows if split_function(row)]  # if split_function(row)\n",
    "    set2 = [row for row in rows if not split_function(row)]\n",
    "    return (set1, set2)\n",
    "\n",
    "# Create counts of possible results (last column of each row is the result)\n",
    "def uniquecounts(rows):\n",
    "    results = {}\n",
    "    for row in rows:\n",
    "        # The result is the last column\n",
    "        r = row[len(row) - 1]\n",
    "        if r not in results: results[r] = 0\n",
    "        results[r] += 1\n",
    "    return results\n",
    "\n",
    "from collections import defaultdict\n",
    "\n",
    "def uniquecounts_dd(rows):\n",
    "    results = defaultdict(lambda: 0)\n",
    "    for row in rows:\n",
    "        r = row[len(row) - 1]\n",
    "        results[r] += 1\n",
    "    return dict(results)\n",
    "\n",
    "# Entropy is the sum of p(x)log(p(x)) across all the different possible results\n",
    "def entropy(rows):\n",
    "    from math import log\n",
    "    log2 = lambda x: log(x) / log(2)\n",
    "    results = uniquecounts(rows)\n",
    "    # Now calculate the entropy\n",
    "    ent = 0.0\n",
    "    for r in results.keys():\n",
    "        # current probability of class\n",
    "        p = float(results[r]) / len(rows)\n",
    "        ent = ent - p * log2(p)\n",
    "    return ent\n",
    "\n",
    "def buildtree(rows, scorefun=entropy):\n",
    "    if len(rows) == 0: return decisionnode()\n",
    "    current_score = scorefun(rows)\n",
    "\n",
    "    best_gain = 0.0\n",
    "    best_criteria = None\n",
    "    best_sets = None\n",
    "\n",
    "    column_count = len(rows[0]) - 1  # last column is result\n",
    "    for col in range(0, column_count):\n",
    "        # find different values in this column\n",
    "        column_values = set([row[col] for row in rows])\n",
    "\n",
    "        # for each possible value, try to divide on that value\n",
    "        for value in column_values:\n",
    "            set1, set2 = divideset(rows, col, value)\n",
    "\n",
    "            # Information gain\n",
    "            p = float(len(set1)) / len(rows)\n",
    "            gain = current_score - p * scorefun(set1) - (1 - p) * scorefun(set2)\n",
    "            if gain > best_gain and len(set1) > 0 and len(set2) > 0:\n",
    "                best_gain = gain\n",
    "                best_criteria = (col, value)\n",
    "                best_sets = (set1, set2)\n",
    "\n",
    "    if best_gain > 0:\n",
    "        trueBranch = buildtree(best_sets[0])\n",
    "        falseBranch = buildtree(best_sets[1])\n",
    "        return decisionnode(col=best_criteria[0], value=best_criteria[1],\n",
    "                            tb=trueBranch, fb=falseBranch)\n",
    "    else:\n",
    "        return decisionnode(results=uniquecounts(rows))\n",
    "\n",
    "\n",
    "def printtree(tree, indent=''):\n",
    "    # Is this a leaf node?\n",
    "    if tree.results != None:\n",
    "        print\n",
    "        str(tree.results)\n",
    "    else:\n",
    "        # Print the criteria\n",
    "        print\n",
    "        'Column ' + str(tree.col) + ' : ' + str(tree.value) + '? '\n",
    "\n",
    "        # Print the branches\n",
    "        print\n",
    "        indent + 'True->',\n",
    "        printtree(tree.tb, indent + '  ')\n",
    "        print\n",
    "        indent + 'False->',\n",
    "        printtree(tree.fb, indent + '  ')"
   ]
  },
  {
   "cell_type": "code",
   "execution_count": null,
   "metadata": {},
   "outputs": [],
   "source": [
    "my_data = [\n",
    "    [3, 3, 5],\n",
    "    [2, 2, 4],\n",
    "    [1, 3, 3],\n",
    "    [1, 3, 3],\n",
    "    [1, 1, 3],\n",
    "    [2, 1, 3],\n",
    "    [2, -1, 3],\n",
    "    [1, -1, 3],\n",
    "    [2, -1, 2],\n",
    "    [2, -2, 2],\n",
    "    [2, -2, 2],\n",
    "    [1, -2, 1]\n",
    "]"
   ]
  },
  {
   "cell_type": "code",
   "execution_count": null,
   "metadata": {},
   "outputs": [],
   "source": [
    "printtree(buildtree(my_data))"
   ]
  },
  {
   "cell_type": "markdown",
   "metadata": {},
   "source": [
    "## "
   ]
  },
  {
   "cell_type": "markdown",
   "metadata": {},
   "source": [
    "### Partie 1"
   ]
  },
  {
   "cell_type": "code",
   "execution_count": null,
   "metadata": {},
   "outputs": [],
   "source": [
    "print(\"Question 2.1\")\n",
    "CheckAdditiveModel('criteresAEROSOL.csv', 'intervalles.csv', \"2.1\")\n",
    "print(\"----------------------------------------\")\n",
    "print(\"Question 2.2\")\n",
    "CheckAdditiveModel('criteresAEROSOL.csv', 'intervalles.csv', \"2.2\")\n",
    "print(\"----------------------------------------\")\n",
    "print(\"Question 3\")\n",
    "CheckAdditiveModel('criteresAEROSOL.csv', 'intervalles.csv', \"3\")\n",
    "print(\"----------------------------------------\")\n",
    "print(\"Question 4\")\n",
    "CheckAdditiveModel('criteresAEROSOL.csv', 'intervalles.csv', \"4\")\n",
    "print(\"----------------------------------------\")"
   ]
  },
  {
   "cell_type": "markdown",
   "metadata": {},
   "source": [
    "## Partie 2"
   ]
  },
  {
   "cell_type": "markdown",
   "metadata": {},
   "source": []
  },
  {
   "cell_type": "markdown",
   "metadata": {},
   "source": []
  },
  {
   "cell_type": "code",
   "execution_count": null,
   "metadata": {},
   "outputs": [],
   "source": []
  },
  {
   "cell_type": "markdown",
   "metadata": {},
   "source": [
    "## Conclusion"
   ]
  },
  {
   "cell_type": "markdown",
   "metadata": {},
   "source": [
    "Notre conclusion du dossier est ici"
   ]
  }
 ],
 "metadata": {
  "kernelspec": {
   "display_name": "Python 2",
   "language": "python",
   "name": "python2"
  },
  "language_info": {
   "codemirror_mode": {
    "name": "ipython",
    "version": 2
   },
   "file_extension": ".py",
   "mimetype": "text/x-python",
   "name": "python",
   "nbconvert_exporter": "python",
   "pygments_lexer": "ipython2",
   "version": "2.7.6"
  }
 },
 "nbformat": 4,
 "nbformat_minor": 0
}
