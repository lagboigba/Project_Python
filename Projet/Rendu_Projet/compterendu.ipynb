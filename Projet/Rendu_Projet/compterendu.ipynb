{
 "cells": [
  {
   "cell_type": "markdown",
   "metadata": {
    "collapsed": true,
    "slideshow": {
     "slide_type": "slide"
    }
   },
   "source": [
    "# Compte Rendu - Analyse 60 Millions de Consommateurs\n",
    "**_Par Lionel Agboigba, Jules Besson-Legoff, Elie El Chartouni, Romain Scohy et Olympie Suquet_**\n",
    "\n",
    "\n",
    "__Etudiants en M2 MIDO ID - Université Paris-Dauphine__"
   ]
  },
  {
   "cell_type": "markdown",
   "metadata": {
    "slideshow": {
     "slide_type": "subslide"
    }
   },
   "source": [
    "## Partie 1 : Analyse d’un classement de couches-culottes pour enfants"
   ]
  },
  {
   "cell_type": "markdown",
   "metadata": {
    "slideshow": {
     "slide_type": "slide"
    }
   },
   "source": [
    "### Méthode 1 : PL"
   ]
  },
  {
   "cell_type": "markdown",
   "metadata": {
    "slideshow": {
     "slide_type": "fragment"
    }
   },
   "source": [
    "Ci dessous, le code source de la première partie"
   ]
  },
  {
   "cell_type": "code",
   "execution_count": 54,
   "metadata": {
    "slideshow": {
     "slide_type": "slide"
    }
   },
   "outputs": [],
   "source": [
    "%matplotlib inline\n",
    "import csv\n",
    "import numpy as np\n",
    "import pandas as pd\n",
    "from optlang import Model, Variable, Constraint, Objective\n",
    "import matplotlib.pyplot as plt"
   ]
  },
  {
   "cell_type": "code",
   "execution_count": 55,
   "metadata": {
    "slideshow": {
     "slide_type": "slide"
    }
   },
   "outputs": [],
   "source": [
    "def readFileCSVData(file):\n",
    "    \"\"\"\n",
    "    Lit un fichier CSV et retourne les pondérations, les données et les résultats du dossier 60Millions\n",
    "    :param file:filename\n",
    "    :return: ponderation : list\n",
    "             data : list\n",
    "             result : list\n",
    "             types : A maximiser ou minimiser\n",
    "    \"\"\"\n",
    "    ponderation = []\n",
    "    data = []\n",
    "    result = []  #derniere colonne\n",
    "    types = []\n",
    "    with open(file, newline='', encoding='utf-8') as f:\n",
    "        reader = csv.reader(f, delimiter=';')\n",
    "        for row in reader:\n",
    "            if row[0] == 'ponderations':  #lecture des ponderations\n",
    "                for i in range(1, len(row) - 1,2):\n",
    "                    ponderation.append(float(row[i]))\n",
    "                    types.append(str(row[i+1]))\n",
    "            else:  #lecture des donnees et des resultats\n",
    "                #donnees contient les notes et result la moyenne\n",
    "                temp = []\n",
    "                for i in range(1, len(row) - 1):\n",
    "                    temp.append(row[i])\n",
    "                #dicodata={row[0]:temp}\n",
    "                #dicoresult={row[0]:float(row[len(row)-1])}\n",
    "                data.append([row[0], temp])\n",
    "                result.append([row[0], float(row[len(row) - 1])])\n",
    "\n",
    "    return ponderation, data, result, types"
   ]
  },
  {
   "cell_type": "code",
   "execution_count": 56,
   "metadata": {
    "slideshow": {
     "slide_type": "slide"
    }
   },
   "outputs": [],
   "source": [
    "def readFileCSVInterval(file):\n",
    "    \"\"\"\n",
    "    Lit un fichier CSV et retourne les intervalles de YYYY\n",
    "    :param file: filename\n",
    "    :return: intervalle : dict\n",
    "    \"\"\"\n",
    "    intervalle = {}\n",
    "    with open(file, newline='', encoding='utf-8') as f:\n",
    "        reader = csv.reader(f, delimiter=';')\n",
    "        for row in reader:\n",
    "            intervalle[row[0]] = [float(row[1]), float(row[2])]\n",
    "    return intervalle"
   ]
  },
  {
   "cell_type": "code",
   "execution_count": 57,
   "metadata": {
    "slideshow": {
     "slide_type": "slide"
    }
   },
   "outputs": [],
   "source": [
    "def createVars(nbelements,nbcriteres):\n",
    "    \"\"\"\n",
    "    Retourne les 2 listes de variables correspondant aux notes / scores\n",
    "    :param nbelements: nb d'items à comparer\n",
    "           nbcriteres: nb de critères\n",
    "    :return: U : liste des variables, correspondant aux notes / scores sur un critère pour un produit\n",
    "             f : liste des variables, correspondant aux notes / scores sur un produit\n",
    "    \"\"\"\n",
    "    U = []\n",
    "    f = []\n",
    "    for i in range(nbelements):\n",
    "        x = Variable(\"f\" + str(i + 1), lb=0)\n",
    "        f.append(x)\n",
    "        x = []\n",
    "        for j in range(nbcriteres):\n",
    "            x1 = Variable(\"U\" + str(i + 1) + str(j + 1), lb=0)\n",
    "            x.append(x1)\n",
    "        U.append(x)\n",
    "\n",
    "    return U,f"
   ]
  },
  {
   "cell_type": "code",
   "execution_count": 58,
   "metadata": {
    "slideshow": {
     "slide_type": "slide"
    }
   },
   "outputs": [],
   "source": [
    "def constraints1to15(constraintList,ponderation,Uvars,f,nbelements,nbcriteres):\n",
    "    \"\"\"\n",
    "    Retourne la liste des contraintes correspondant à l'écriture de la somme pondérée\n",
    "    :param constraintList: liste des contraintes actuelles\n",
    "           ponderation: liste des poids de chaque critère\n",
    "           Uvars: notes d'un produit sur un critère spécifique\n",
    "           f: note gloable du produit\n",
    "           nbelements: nb d'items à comparer\n",
    "           nbcriteres: nb de critères\n",
    "\n",
    "    :return: C : liste des contraintes\n",
    "    \"\"\"\n",
    "    C = constraintList\n",
    "    for i in range(nbelements):\n",
    "        calcul = 0\n",
    "        for j in range(nbcriteres):\n",
    "            calcul += ponderation[j] * Uvars[i][j]\n",
    "        c = Constraint(calcul - f[i], ub=0, lb=0)\n",
    "        C.append(c)\n",
    "    return C"
   ]
  },
  {
   "cell_type": "code",
   "execution_count": 59,
   "metadata": {
    "slideshow": {
     "slide_type": "slide"
    }
   },
   "outputs": [],
   "source": [
    "def createModel2(ponderation, data, result, intervalle, fixed):\n",
    "    \"\"\"\n",
    "    fixed = True ===> fixer les variables f (question 2.1)\n",
    "    fixed = False ===> ne pas fixer les variables f (question 2.2)\n",
    "    \"\"\"\n",
    "    nbelements = len(data)\n",
    "    nbcriteres = len(ponderation)\n",
    "    #creation des variables\n",
    "    U = []\n",
    "    f = []\n",
    "    U,f = createVars(nbelements,nbcriteres)\n",
    "\n",
    "    #creation des contraintes (1) a (15)\n",
    "    C = []\n",
    "    C = constraints1to15(C,ponderation,U,f,nbelements,nbcriteres)\n",
    "\n",
    "    #creation des contraintes (16) a (19)\n",
    "    for i in range(len(result) - 1):\n",
    "        if result[i][1] == result[i + 1][1]:\n",
    "            c = Constraint(f[i] - f[i + 1], ub=0, lb=0)\n",
    "            C.append(c)\n",
    "        else:\n",
    "            c = Constraint(f[i] - f[i + 1] - 0.1, lb=0)\n",
    "            C.append(c)\n",
    "\n",
    "    #creation des contraintes (20) a (29)\n",
    "    for i in range(nbelements):\n",
    "        for j in range(nbcriteres):\n",
    "            c = Constraint(U[i][j], ub=intervalle.get(data[i][1][j])[1], lb=intervalle.get(data[i][1][j])[0])\n",
    "            C.append(c)\n",
    "\n",
    "    #Fixation des variables f\n",
    "    if fixed:\n",
    "        for i in range(nbelements):\n",
    "            c = Constraint(f[i], lb=result[i][1], ub=result[i][1])\n",
    "            C.append(c)\n",
    "\n",
    "    model = Model(name='Modele')\n",
    "    model.objective = Objective(f[0], direction='max')\n",
    "    model.add(C)\n",
    "    return model"
   ]
  },
  {
   "cell_type": "code",
   "execution_count": 60,
   "metadata": {
    "slideshow": {
     "slide_type": "slide"
    }
   },
   "outputs": [],
   "source": [
    "def createModel3(ponderation, data, result, intervalle):\n",
    "    nbelements = len(data)\n",
    "    nbcriteres = len(ponderation)\n",
    "\n",
    "    #creation des variables\n",
    "    U = []\n",
    "    f = []\n",
    "    U,f = createVars(nbelements,nbcriteres)\n",
    "\n",
    "    #creation des contraintes (1) a (15)\n",
    "    C = []\n",
    "    C = constraints1to15(C,ponderation,U,f,nbelements,nbcriteres)\n",
    "\n",
    "    #creation des contraintes (16) a (19)\n",
    "    for i in range(len(result) - 1):\n",
    "        if i == 3 or i == 8:\n",
    "            continue\n",
    "        elif result[i][1] == result[i + 1][1]:\n",
    "            c = Constraint(f[i] - f[i + 1], ub=0, lb=0)\n",
    "            C.append(c)\n",
    "        else:\n",
    "            c = Constraint(f[i] - f[i + 1] - 0.1, lb=0)\n",
    "            C.append(c)\n",
    "\n",
    "    #creation des contraintes (20) a (29)\n",
    "    for i in range(nbelements):\n",
    "        for j in range(nbcriteres):\n",
    "            if i == 1 and j == 2:\n",
    "                c = Constraint(U[i][j], ub=intervalle.get(data[i][1][j])[1])\n",
    "                C.append(c)\n",
    "            else:\n",
    "                c = Constraint(U[i][j], ub=intervalle.get(data[i][1][j])[1], lb=intervalle.get(data[i][1][j])[0])\n",
    "                C.append(c)\n",
    "\n",
    "    model = Model(name='Modele')\n",
    "    model.objective = Objective(f[0], direction='max')\n",
    "    model.add(C)\n",
    "    return model"
   ]
  },
  {
   "cell_type": "code",
   "execution_count": 61,
   "metadata": {
    "slideshow": {
     "slide_type": "slide"
    }
   },
   "outputs": [],
   "source": [
    "def createModel4(ponderation, data, result, intervalle):\n",
    "    nbelements = len(data)\n",
    "    nbcriteres = len(ponderation)\n",
    "    #creation des variables\n",
    "    U = []\n",
    "    f = []\n",
    "    U,f = createVars(nbelements,nbcriteres)\n",
    "\n",
    "    #creation des contraintes (1) a (15)\n",
    "    C = []\n",
    "    C = constraints1to15(C,ponderation,U,f,nbelements,nbcriteres)\n",
    "\n",
    "    #creation des contraintes (20) a (29)\n",
    "    for i in range(nbelements):\n",
    "        for j in range(nbcriteres):\n",
    "            c = Constraint(U[i][j], ub=intervalle.get(data[i][1][j])[1], lb=intervalle.get(data[i][1][j])[0])\n",
    "            C.append(c)\n",
    "\n",
    "    obj = Objective(f[0], direction='max')\n",
    "    model = Model(name='Modele')\n",
    "    model.objective = obj\n",
    "    model.add(C)\n",
    "    return model"
   ]
  },
  {
   "cell_type": "code",
   "execution_count": 62,
   "metadata": {
    "slideshow": {
     "slide_type": "slide"
    }
   },
   "outputs": [],
   "source": [
    "def CheckAdditiveModel(fileData, fileInt, question):\n",
    "    ponderation, data, result,types = readFileCSVData(fileData)\n",
    "    intervalle = readFileCSVInterval(fileInt)\n",
    "    \n",
    "    if question == \"2.1\":\n",
    "        model = createModel2(ponderation, data, result, intervalle, False)\n",
    "    elif question == \"2.2\":\n",
    "        model = createModel2(ponderation, data, result, intervalle, True)\n",
    "    elif question == \"3\":\n",
    "        model = createModel3(ponderation, data, result, intervalle)\n",
    "    elif question == \"4\":\n",
    "        model = createModel4(ponderation, data, result, intervalle)\n",
    "    else:\n",
    "        print(\"Existe pas\")\n",
    "        return\n",
    "\n",
    "    status = model.optimize()\n",
    "    print(\"status:\", model.status)\n",
    "    print(\"objective value:\", model.objective.value)\n",
    "    print(\"----------\")\n",
    "    for var_name, var in model.variables.items():\n",
    "        if var_name.startswith(\"f\"):\n",
    "            print(var_name, \"=\", var.primal)"
   ]
  },
  {
   "cell_type": "markdown",
   "metadata": {
    "slideshow": {
     "slide_type": "slide"
    }
   },
   "source": [
    "**Question 1: CheckAdditiveModel**"
   ]
  },
  {
   "cell_type": "code",
   "execution_count": 63,
   "metadata": {
    "slideshow": {
     "slide_type": "fragment"
    }
   },
   "outputs": [
    {
     "name": "stdout",
     "output_type": "stream",
     "text": [
      "Question 2.1\n",
      "status: infeasible\n",
      "objective value: 16.999999999999996\n",
      "----------\n",
      "f1 = 16.999999999999996\n",
      "f2 = 12.999999999999998\n",
      "f3 = 12.5\n",
      "f4 = 12.5\n",
      "f5 = 12.5\n",
      "f6 = 12.5\n",
      "f7 = 10.7\n",
      "f8 = 10.7\n",
      "f9 = 10.6\n",
      "f10 = 10.6\n",
      "f11 = 10.600000000000001\n",
      "f12 = 6.0\n"
     ]
    }
   ],
   "source": [
    "print(\"Question 2.1\")\n",
    "CheckAdditiveModel('criteres.csv', 'intervalles.csv', \"2.1\")"
   ]
  },
  {
   "cell_type": "markdown",
   "metadata": {
    "slideshow": {
     "slide_type": "slide"
    }
   },
   "source": [
    "**Question 2.2**"
   ]
  },
  {
   "cell_type": "code",
   "execution_count": 64,
   "metadata": {
    "slideshow": {
     "slide_type": "fragment"
    }
   },
   "outputs": [
    {
     "name": "stdout",
     "output_type": "stream",
     "text": [
      "Question 2.2\n",
      "status: infeasible\n",
      "objective value: 17.0\n",
      "----------\n",
      "f1 = 17.0\n",
      "f2 = 14.500000000000004\n",
      "f3 = 12.500000000000005\n",
      "f4 = 12.500000000000005\n",
      "f5 = 12.500000000000005\n",
      "f6 = 12.500000000000005\n",
      "f7 = 11.300000000000004\n",
      "f8 = 11.300000000000004\n",
      "f9 = 9.500000000000004\n",
      "f10 = 9.500000000000004\n",
      "f11 = 9.500000000000004\n",
      "f12 = 6.499999999999999\n"
     ]
    }
   ],
   "source": [
    "print(\"Question 2.2\")\n",
    "CheckAdditiveModel('criteres.csv', 'intervalles.csv', \"2.2\")"
   ]
  },
  {
   "cell_type": "markdown",
   "metadata": {
    "slideshow": {
     "slide_type": "slide"
    }
   },
   "source": [
    "**Question 3**"
   ]
  },
  {
   "cell_type": "code",
   "execution_count": 65,
   "metadata": {
    "slideshow": {
     "slide_type": "fragment"
    }
   },
   "outputs": [
    {
     "name": "stdout",
     "output_type": "stream",
     "text": [
      "Question 3\n",
      "status: optimal\n",
      "objective value: 20.0\n",
      "----------\n",
      "f1 = 20.0\n",
      "f2 = 13.0\n",
      "f3 = 12.8\n",
      "f4 = 12.8\n",
      "f5 = 11.799999999999999\n",
      "f6 = 11.799999999999999\n",
      "f7 = 10.7\n",
      "f8 = 10.7\n",
      "f9 = 10.6\n",
      "f10 = 7.8\n",
      "f11 = 7.8\n",
      "f12 = 6.0\n"
     ]
    }
   ],
   "source": [
    "print(\"Question 3\")\n",
    "CheckAdditiveModel('criteres.csv', 'intervalles.csv', \"3\")"
   ]
  },
  {
   "cell_type": "markdown",
   "metadata": {
    "slideshow": {
     "slide_type": "slide"
    }
   },
   "source": [
    "**Question 4**"
   ]
  },
  {
   "cell_type": "code",
   "execution_count": 66,
   "metadata": {
    "slideshow": {
     "slide_type": "fragment"
    }
   },
   "outputs": [
    {
     "name": "stdout",
     "output_type": "stream",
     "text": [
      "Question 4\n",
      "status: optimal\n",
      "objective value: 20.0\n",
      "----------\n",
      "f1 = 20.0\n",
      "f2 = 13.0\n",
      "f3 = 12.8\n",
      "f4 = 12.8\n",
      "f5 = 10.0\n",
      "f6 = 11.8\n",
      "f7 = 10.6\n",
      "f8 = 8.8\n",
      "f9 = 10.6\n",
      "f10 = 7.8\n",
      "f11 = 7.8\n",
      "f12 = 6.0\n"
     ]
    }
   ],
   "source": [
    "print(\"Question 4\")\n",
    "CheckAdditiveModel('criteres.csv', 'intervalles.csv', \"4\")"
   ]
  },
  {
   "cell_type": "markdown",
   "metadata": {
    "slideshow": {
     "slide_type": "slide"
    }
   },
   "source": [
    "### Méthode 2 : ELECTRE TRI"
   ]
  },
  {
   "cell_type": "markdown",
   "metadata": {
    "slideshow": {
     "slide_type": "fragment"
    }
   },
   "source": [
    "**Code source de la 2e méthode**"
   ]
  },
  {
   "cell_type": "code",
   "execution_count": 67,
   "metadata": {
    "slideshow": {
     "slide_type": "slide"
    }
   },
   "outputs": [],
   "source": [
    "def concordance_partiel(type, h, bi, j):\n",
    "    \"\"\"\n",
    "    :param h: 1 Couche-culotte (donc liste)\n",
    "    :param bi: profil (frontière qui YYYY)\n",
    "    :param j: critère\n",
    "    :return: 1 si H est au-moins aussi bon que bi sur le critère j, 0 sinon\n",
    "    \"\"\"\n",
    "    if (type == 'max'):\n",
    "        if h[j] >= bi[j]:\n",
    "            return 1\n",
    "        else:\n",
    "            return 0\n",
    "    elif (type == 'min'):\n",
    "        if h[j] <= bi[j]:\n",
    "            return 1\n",
    "        else:\n",
    "            return 0\n",
    "    else:\n",
    "        return -1"
   ]
  },
  {
   "cell_type": "code",
   "execution_count": 68,
   "metadata": {
    "slideshow": {
     "slide_type": "slide"
    }
   },
   "outputs": [],
   "source": [
    "def concordanceGlobal(h, bi, poids, type):\n",
    "    \"\"\"\n",
    "    :param type: vecteur contenant ['min'/'max'] pour chaque critere\n",
    "    :param h: Couche culotte (liste)\n",
    "    :param bi: profil (frontière qui YYYY)\n",
    "    :param poids: vecteur contenant poids pour chaque critere\n",
    "    :return: indice de concordance global, -1 si erreur\n",
    "    \"\"\"\n",
    "    numerateur = 0.0\n",
    "    denom = 0.0\n",
    "    # Pour chaque critère j\n",
    "    for j in range(1, len(h)):\n",
    "        numerateur += poids[j - 1] * concordance_partiel(type[j - 1], h, bi, j)\n",
    "        denom += poids[j - 1]\n",
    "    return numerateur / denom"
   ]
  },
  {
   "cell_type": "code",
   "execution_count": 69,
   "metadata": {
    "slideshow": {
     "slide_type": "slide"
    }
   },
   "outputs": [],
   "source": [
    "def Surclasse(seuilMajorite, h, bi, poids, type):\n",
    "    \"\"\"\n",
    "    :param type: vecteur contenant ['min'/'max'] pour chaque critere\n",
    "    :param seuilMajorite:\n",
    "    :param h:\n",
    "    :param bi:\n",
    "    :param poids:\n",
    "    :return:\n",
    "    \"\"\"\n",
    "    if concordanceGlobal(h, bi, poids, type) >= seuilMajorite:\n",
    "        return True\n",
    "    else:\n",
    "        return False"
   ]
  },
  {
   "cell_type": "code",
   "execution_count": 70,
   "metadata": {
    "slideshow": {
     "slide_type": "slide"
    }
   },
   "outputs": [],
   "source": [
    "def AffectationOptimiste(h, classement, poids, type, seuil):\n",
    "    \"\"\"\n",
    "    :param h:\n",
    "    :param classement:\n",
    "    :param poids:\n",
    "    :param type:\n",
    "    :param seuil:\n",
    "    :return:\n",
    "    \"\"\"\n",
    "    profil = len(classement) - 1  # OPTIMISATION : on peut commencer à len -2 car len-1 est forcement surclassé\n",
    "    while (not (Surclasse(seuil, classement[profil], h, poids, type)) or (\n",
    "        Surclasse(seuil, h, classement[profil], poids, type))):\n",
    "        profil -= 1\n",
    "    return profil "
   ]
  },
  {
   "cell_type": "code",
   "execution_count": 71,
   "metadata": {
    "slideshow": {
     "slide_type": "slide"
    }
   },
   "outputs": [],
   "source": [
    "def AffectationPessimiste(h, classement, poids, type, seuil):\n",
    "    \"\"\"\n",
    "    :param h:\n",
    "    :param classement:\n",
    "    :param poids:\n",
    "    :param type:\n",
    "    :param seuil:\n",
    "    :return:\n",
    "    \"\"\"\n",
    "    profil = 0\n",
    "    while not (Surclasse(seuil, h, classement[profil], poids, type)):\n",
    "        profil += 1\n",
    "    return profil"
   ]
  },
  {
   "cell_type": "code",
   "execution_count": 72,
   "metadata": {
    "slideshow": {
     "slide_type": "slide"
    }
   },
   "outputs": [],
   "source": [
    "def EvalOptimiste(lesCouches, classement, poids, type, seuil):\n",
    "    \"\"\"\n",
    "    :param lesCouches:\n",
    "    :param classement:\n",
    "    :param poids:\n",
    "    :param type:\n",
    "    :param seuil:\n",
    "    :return:\n",
    "    \"\"\"\n",
    "    liste = []\n",
    "    dict = {}\n",
    "    # pour chaque element de la matrice (une couche culotte), en partant de l'indice max (matrice profils[i][0]), on descend\n",
    "    for couche in range(0, len(lesCouches)):\n",
    "        dict[str(lesCouches[couche][0])] = categorie[\n",
    "            AffectationOptimiste(lesCouches[couche], classement, poids, type, seuil)]\n",
    "    return dict"
   ]
  },
  {
   "cell_type": "code",
   "execution_count": 73,
   "metadata": {
    "slideshow": {
     "slide_type": "slide"
    }
   },
   "outputs": [],
   "source": [
    "def EvalPessimiste(lesCouches, classement, poids, type, seuil):\n",
    "    \"\"\"\n",
    "    :param lesCouches:\n",
    "    :param classement:\n",
    "    :param poids:\n",
    "    :param type:\n",
    "    :param seuil:\n",
    "    :return:\n",
    "    \"\"\"\n",
    "    liste = []\n",
    "    dict = {}\n",
    "    for couche in range(0, len(lesCouches)):\n",
    "        dict[str(lesCouches[couche][0])] = categorie[\n",
    "            AffectationPessimiste(lesCouches[couche], classement, poids, type, seuil) - 1]  #return liste\n",
    "    return dict\n"
   ]
  },
  {
   "cell_type": "code",
   "execution_count": 74,
   "metadata": {
    "slideshow": {
     "slide_type": "slide"
    }
   },
   "outputs": [],
   "source": [
    "def createMatriceProfils(nomList,val,nbCriteres):\n",
    "    \"\"\"\n",
    "    \"\"\"\n",
    "    matrice = []\n",
    "    for idx, profil in enumerate(nomList):\n",
    "        pro = [val[idx]]*nbCriteres\n",
    "        a = [profil]\n",
    "        a.extend(pro)\n",
    "        matrice.append(a)\n",
    "    return matrice"
   ]
  },
  {
   "cell_type": "code",
   "execution_count": 75,
   "metadata": {
    "slideshow": {
     "slide_type": "slide"
    }
   },
   "outputs": [],
   "source": [
    "poids, mat, result,types = readFileCSVData('criteres.csv')\n",
    "nbCriteres = len(poids)"
   ]
  },
  {
   "cell_type": "code",
   "execution_count": 76,
   "metadata": {
    "slideshow": {
     "slide_type": "skip"
    }
   },
   "outputs": [],
   "source": [
    "# Transformation structure mat\n",
    "flat_list = []\n",
    "for sublist in mat:\n",
    "    tempL=[]\n",
    "    for item in sublist:\n",
    "        if isinstance(item,list):\n",
    "            for note in item:\n",
    "                tempL.append(int(note))\n",
    "        else:\n",
    "            tempL.append(item)\n",
    "    flat_list.append(tempL)\n",
    "mat = flat_list"
   ]
  },
  {
   "cell_type": "code",
   "execution_count": 77,
   "metadata": {
    "slideshow": {
     "slide_type": "subslide"
    }
   },
   "outputs": [],
   "source": [
    "# Chargement des profils, categories\n",
    "nomList = ['Profil 6 : Frontiere Le meilleur, impossible','Profil 5 : Dans les premiers','Profil 4 : Moyen +','Profil 3 : Moyen -','Profil 2 : Dans les derniers','Profil 1 : Frontiere Le pire,impossible']\n",
    "valuesList = [100,3,2,1,-1,-2,-100]\n",
    "matrice_profils = createMatriceProfils(nomList,valuesList,nbCriteres)\n",
    "categorie = ['Très bon', 'Bon', 'Acceptable', 'Insuffisant', 'Inacceptable']"
   ]
  },
  {
   "cell_type": "markdown",
   "metadata": {
    "slideshow": {
     "slide_type": "slide"
    }
   },
   "source": [
    "**Question 6** : Lambda = 0.55"
   ]
  },
  {
   "cell_type": "code",
   "execution_count": 78,
   "metadata": {
    "slideshow": {
     "slide_type": "fragment"
    }
   },
   "outputs": [],
   "source": [
    "op = EvalOptimiste(mat, matrice_profils, poids, types, 0.55)\n",
    "pe = EvalPessimiste(mat, matrice_profils, poids, types, 0.55)\n",
    "final_results = {key: [op[key], pe[key]] for key in op}\n",
    "df_lambda1 = pd.DataFrame(final_results)\n",
    "df_lambda1 = pd.DataFrame.from_records(final_results).T\n",
    "df_lambda1.columns = ['Electre Optimiste', 'Electre Pessimiste']"
   ]
  },
  {
   "cell_type": "code",
   "execution_count": 79,
   "metadata": {
    "slideshow": {
     "slide_type": "fragment"
    }
   },
   "outputs": [
    {
     "data": {
      "text/html": [
       "<div>\n",
       "<style scoped>\n",
       "    .dataframe tbody tr th:only-of-type {\n",
       "        vertical-align: middle;\n",
       "    }\n",
       "\n",
       "    .dataframe tbody tr th {\n",
       "        vertical-align: top;\n",
       "    }\n",
       "\n",
       "    .dataframe thead th {\n",
       "        text-align: right;\n",
       "    }\n",
       "</style>\n",
       "<table border=\"1\" class=\"dataframe\">\n",
       "  <thead>\n",
       "    <tr style=\"text-align: right;\">\n",
       "      <th></th>\n",
       "      <th>Electre Optimiste</th>\n",
       "      <th>Electre Pessimiste</th>\n",
       "    </tr>\n",
       "  </thead>\n",
       "  <tbody>\n",
       "    <tr>\n",
       "      <th>Carref. Baby</th>\n",
       "      <td>Bon</td>\n",
       "      <td>Bon</td>\n",
       "    </tr>\n",
       "    <tr>\n",
       "      <th>Joone</th>\n",
       "      <td>Très bon</td>\n",
       "      <td>Très bon</td>\n",
       "    </tr>\n",
       "    <tr>\n",
       "      <th>Lillydoo</th>\n",
       "      <td>Acceptable</td>\n",
       "      <td>Acceptable</td>\n",
       "    </tr>\n",
       "    <tr>\n",
       "      <th>Lotus Baby</th>\n",
       "      <td>Bon</td>\n",
       "      <td>Bon</td>\n",
       "    </tr>\n",
       "    <tr>\n",
       "      <th>Love &amp; Green</th>\n",
       "      <td>Bon</td>\n",
       "      <td>Bon</td>\n",
       "    </tr>\n",
       "    <tr>\n",
       "      <th>Lupilu</th>\n",
       "      <td>Bon</td>\n",
       "      <td>Bon</td>\n",
       "    </tr>\n",
       "    <tr>\n",
       "      <th>Mots d’enfants</th>\n",
       "      <td>Acceptable</td>\n",
       "      <td>Acceptable</td>\n",
       "    </tr>\n",
       "    <tr>\n",
       "      <th>Naty</th>\n",
       "      <td>Acceptable</td>\n",
       "      <td>Acceptable</td>\n",
       "    </tr>\n",
       "    <tr>\n",
       "      <th>Pamp. Activ.</th>\n",
       "      <td>Acceptable</td>\n",
       "      <td>Acceptable</td>\n",
       "    </tr>\n",
       "    <tr>\n",
       "      <th>Pamp. Baby</th>\n",
       "      <td>Acceptable</td>\n",
       "      <td>Acceptable</td>\n",
       "    </tr>\n",
       "    <tr>\n",
       "      <th>Pamp. Prem</th>\n",
       "      <td>Bon</td>\n",
       "      <td>Bon</td>\n",
       "    </tr>\n",
       "    <tr>\n",
       "      <th>Pommette</th>\n",
       "      <td>Bon</td>\n",
       "      <td>Bon</td>\n",
       "    </tr>\n",
       "  </tbody>\n",
       "</table>\n",
       "</div>"
      ],
      "text/plain": [
       "               Electre Optimiste Electre Pessimiste\n",
       "Carref. Baby                 Bon                Bon\n",
       "Joone                   Très bon           Très bon\n",
       "Lillydoo              Acceptable         Acceptable\n",
       "Lotus Baby                   Bon                Bon\n",
       "Love & Green                 Bon                Bon\n",
       "Lupilu                       Bon                Bon\n",
       "Mots d’enfants        Acceptable         Acceptable\n",
       "Naty                  Acceptable         Acceptable\n",
       "Pamp. Activ.          Acceptable         Acceptable\n",
       "Pamp. Baby            Acceptable         Acceptable\n",
       "Pamp. Prem                   Bon                Bon\n",
       "Pommette                     Bon                Bon"
      ]
     },
     "metadata": {},
     "output_type": "display_data"
    }
   ],
   "source": [
    "print(df_lambda1)"
   ]
  },
  {
   "cell_type": "markdown",
   "metadata": {
    "slideshow": {
     "slide_type": "slide"
    }
   },
   "source": [
    "**Question 6** : Lambda = 0.75"
   ]
  },
  {
   "cell_type": "code",
   "execution_count": 80,
   "metadata": {
    "slideshow": {
     "slide_type": "fragment"
    }
   },
   "outputs": [],
   "source": [
    "op = EvalOptimiste(mat, matrice_profils, poids, types, 0.75)\n",
    "pe = EvalPessimiste(mat, matrice_profils, poids, types, 0.75)\n",
    "final_results = {key: [op[key], pe[key]] for key in op}\n",
    "df_lambda2 = pd.DataFrame(final_results)\n",
    "df_lambda2 = pd.DataFrame.from_records(final_results).T\n",
    "df_lambda2.columns = ['Electre Optimiste', 'Electre Pessimiste']"
   ]
  },
  {
   "cell_type": "code",
   "execution_count": 81,
   "metadata": {
    "slideshow": {
     "slide_type": "slide"
    }
   },
   "outputs": [
    {
     "data": {
      "text/html": [
       "<div>\n",
       "<style scoped>\n",
       "    .dataframe tbody tr th:only-of-type {\n",
       "        vertical-align: middle;\n",
       "    }\n",
       "\n",
       "    .dataframe tbody tr th {\n",
       "        vertical-align: top;\n",
       "    }\n",
       "\n",
       "    .dataframe thead th {\n",
       "        text-align: right;\n",
       "    }\n",
       "</style>\n",
       "<table border=\"1\" class=\"dataframe\">\n",
       "  <thead>\n",
       "    <tr style=\"text-align: right;\">\n",
       "      <th></th>\n",
       "      <th>Electre Optimiste</th>\n",
       "      <th>Electre Pessimiste</th>\n",
       "    </tr>\n",
       "  </thead>\n",
       "  <tbody>\n",
       "    <tr>\n",
       "      <th>Carref. Baby</th>\n",
       "      <td>Acceptable</td>\n",
       "      <td>Acceptable</td>\n",
       "    </tr>\n",
       "    <tr>\n",
       "      <th>Joone</th>\n",
       "      <td>Très bon</td>\n",
       "      <td>Très bon</td>\n",
       "    </tr>\n",
       "    <tr>\n",
       "      <th>Lillydoo</th>\n",
       "      <td>Insuffisant</td>\n",
       "      <td>Inacceptable</td>\n",
       "    </tr>\n",
       "    <tr>\n",
       "      <th>Lotus Baby</th>\n",
       "      <td>Acceptable</td>\n",
       "      <td>Inacceptable</td>\n",
       "    </tr>\n",
       "    <tr>\n",
       "      <th>Love &amp; Green</th>\n",
       "      <td>Acceptable</td>\n",
       "      <td>Insuffisant</td>\n",
       "    </tr>\n",
       "    <tr>\n",
       "      <th>Lupilu</th>\n",
       "      <td>Acceptable</td>\n",
       "      <td>Insuffisant</td>\n",
       "    </tr>\n",
       "    <tr>\n",
       "      <th>Mots d’enfants</th>\n",
       "      <td>Insuffisant</td>\n",
       "      <td>Insuffisant</td>\n",
       "    </tr>\n",
       "    <tr>\n",
       "      <th>Naty</th>\n",
       "      <td>Bon</td>\n",
       "      <td>Acceptable</td>\n",
       "    </tr>\n",
       "    <tr>\n",
       "      <th>Pamp. Activ.</th>\n",
       "      <td>Acceptable</td>\n",
       "      <td>Acceptable</td>\n",
       "    </tr>\n",
       "    <tr>\n",
       "      <th>Pamp. Baby</th>\n",
       "      <td>Bon</td>\n",
       "      <td>Acceptable</td>\n",
       "    </tr>\n",
       "    <tr>\n",
       "      <th>Pamp. Prem</th>\n",
       "      <td>Bon</td>\n",
       "      <td>Bon</td>\n",
       "    </tr>\n",
       "    <tr>\n",
       "      <th>Pommette</th>\n",
       "      <td>Acceptable</td>\n",
       "      <td>Inacceptable</td>\n",
       "    </tr>\n",
       "  </tbody>\n",
       "</table>\n",
       "</div>"
      ],
      "text/plain": [
       "               Electre Optimiste Electre Pessimiste\n",
       "Carref. Baby          Acceptable         Acceptable\n",
       "Joone                   Très bon           Très bon\n",
       "Lillydoo             Insuffisant       Inacceptable\n",
       "Lotus Baby            Acceptable       Inacceptable\n",
       "Love & Green          Acceptable        Insuffisant\n",
       "Lupilu                Acceptable        Insuffisant\n",
       "Mots d’enfants       Insuffisant        Insuffisant\n",
       "Naty                         Bon         Acceptable\n",
       "Pamp. Activ.          Acceptable         Acceptable\n",
       "Pamp. Baby                   Bon         Acceptable\n",
       "Pamp. Prem                   Bon                Bon\n",
       "Pommette              Acceptable       Inacceptable"
      ]
     },
     "metadata": {},
     "output_type": "display_data"
    }
   ],
   "source": [
    "print(df_lambda2)"
   ]
  },
  {
   "cell_type": "markdown",
   "metadata": {
    "slideshow": {
     "slide_type": "slide"
    }
   },
   "source": [
    "**Question 7** : Résultats - Matrices de confusions"
   ]
  },
  {
   "cell_type": "code",
   "execution_count": 82,
   "metadata": {
    "slideshow": {
     "slide_type": "fragment"
    }
   },
   "outputs": [],
   "source": [
    "def plot_confusion_matrix(df_confusion, cmap=plt.cm.gray_r):\n",
    "    plt.matshow(df_confusion, cmap=cmap) # imshow\n",
    "    plt.colorbar()\n",
    "    tick_marks_x = np.arange(len(df_confusion.columns))\n",
    "    tick_marks_y = np.arange(len(df_confusion.index))\n",
    "    plt.xticks(tick_marks_x, df_confusion.columns, rotation=45)\n",
    "    plt.yticks(tick_marks_y, df_confusion.index)\n",
    "    plt.ylabel(df_confusion.index.name)\n",
    "    plt.xlabel(df_confusion.columns.name)"
   ]
  },
  {
   "cell_type": "code",
   "execution_count": 83,
   "metadata": {
    "slideshow": {
     "slide_type": "fragment"
    }
   },
   "outputs": [],
   "source": [
    "def getNote(val,inter,categorie,valuesList):\n",
    "    for k,v in inter.items():\n",
    "        if v[0] <= val <= v[1]:\n",
    "            return categorie[valuesList.index(int(k))-1]\n",
    "    print('Erreur GetNote')\n",
    "    return 'sans cat'\n",
    "\n",
    "def attributeGroup(items,inter,cat,valuesList):\n",
    "    \"\"\" Converti les notes /20 en categories (Acceptable, Insuffisant...)\n",
    "    \"\"\"\n",
    "    listNote = []\n",
    "    for idx,k in enumerate(items):\n",
    "        listNote.append([k[0],getNote(k[1],inter,cat,valuesList)]) # k[0] c'est le nom de la couche\n",
    "    df_temp = pd.DataFrame(listNote)\n",
    "    df_temp = pd.DataFrame.from_records(listNote)\n",
    "    df_temp.columns = ['Couche', '60 Millions']\n",
    "    df_temp.set_index('Couche',inplace=True)\n",
    "    return df_temp"
   ]
  },
  {
   "cell_type": "code",
   "execution_count": 106,
   "metadata": {
    "slideshow": {
     "slide_type": "slide"
    }
   },
   "outputs": [
    {
     "data": {
      "text/html": [
       "<div>\n",
       "<style scoped>\n",
       "    .dataframe tbody tr th:only-of-type {\n",
       "        vertical-align: middle;\n",
       "    }\n",
       "\n",
       "    .dataframe tbody tr th {\n",
       "        vertical-align: top;\n",
       "    }\n",
       "\n",
       "    .dataframe thead th {\n",
       "        text-align: right;\n",
       "    }\n",
       "</style>\n",
       "<table border=\"1\" class=\"dataframe\">\n",
       "  <thead>\n",
       "    <tr style=\"text-align: right;\">\n",
       "      <th></th>\n",
       "      <th>60 Millions</th>\n",
       "    </tr>\n",
       "    <tr>\n",
       "      <th>Couche</th>\n",
       "      <th></th>\n",
       "    </tr>\n",
       "  </thead>\n",
       "  <tbody>\n",
       "    <tr>\n",
       "      <th>Etamine du Lys</th>\n",
       "      <td>Très bon</td>\n",
       "    </tr>\n",
       "    <tr>\n",
       "      <th>Air Wick</th>\n",
       "      <td>Bon</td>\n",
       "    </tr>\n",
       "    <tr>\n",
       "      <th>Biocoop</th>\n",
       "      <td>Bon</td>\n",
       "    </tr>\n",
       "    <tr>\n",
       "      <th>Nature et Découvertes</th>\n",
       "      <td>Acceptable</td>\n",
       "    </tr>\n",
       "    <tr>\n",
       "      <th>Daccide</th>\n",
       "      <td>Acceptable</td>\n",
       "    </tr>\n",
       "    <tr>\n",
       "      <th>Arkopharma</th>\n",
       "      <td>Acceptable</td>\n",
       "    </tr>\n",
       "    <tr>\n",
       "      <th>Ushuaïa</th>\n",
       "      <td>Insuffisant</td>\n",
       "    </tr>\n",
       "    <tr>\n",
       "      <th>LCA</th>\n",
       "      <td>Insuffisant</td>\n",
       "    </tr>\n",
       "    <tr>\n",
       "      <th>Ladrôme Laboratoire</th>\n",
       "      <td>Inacceptable</td>\n",
       "    </tr>\n",
       "    <tr>\n",
       "      <th>Pranarom</th>\n",
       "      <td>Inacceptable</td>\n",
       "    </tr>\n",
       "    <tr>\n",
       "      <th>Le Comptoir Aroma</th>\n",
       "      <td>Inacceptable</td>\n",
       "    </tr>\n",
       "    <tr>\n",
       "      <th>Puressentiel</th>\n",
       "      <td>Inacceptable</td>\n",
       "    </tr>\n",
       "  </tbody>\n",
       "</table>\n",
       "</div>"
      ],
      "text/plain": [
       "                        60 Millions\n",
       "Couche                             \n",
       "Etamine du Lys             Très bon\n",
       "Air Wick                        Bon\n",
       "Biocoop                         Bon\n",
       "Nature et Découvertes    Acceptable\n",
       "Daccide                  Acceptable\n",
       "Arkopharma               Acceptable\n",
       "Ushuaïa                 Insuffisant\n",
       "LCA                     Insuffisant\n",
       "Ladrôme Laboratoire    Inacceptable\n",
       "Pranarom               Inacceptable\n",
       "Le Comptoir Aroma      Inacceptable\n",
       "Puressentiel           Inacceptable"
      ]
     },
     "metadata": {},
     "output_type": "display_data"
    }
   ],
   "source": [
    "inter = readFileCSVInterval('intervalles.csv')\n",
    "# serie60 contient le classement final concu par 60 Millions de Conso.\n",
    "serie60 = attributeGroup(result,inter,categorie,valuesList)\n",
    "print(serie60)"
   ]
  },
  {
   "cell_type": "code",
   "execution_count": 85,
   "metadata": {
    "slideshow": {
     "slide_type": "slide"
    }
   },
   "outputs": [],
   "source": [
    "# On crée les 4 matrices de confusion\n",
    "df_confusion_1_op = pd.crosstab(df_lambda1['Electre Optimiste'], serie60['60 Millions'])\n",
    "df_confusion_1_pe = pd.crosstab(df_lambda1['Electre Pessimiste'], serie60['60 Millions'])\n",
    "df_confusion_2_op = pd.crosstab(df_lambda2['Electre Optimiste'], serie60['60 Millions'])\n",
    "df_confusion_2_pe = pd.crosstab(df_lambda2['Electre Pessimiste'], serie60['60 Millions'])"
   ]
  },
  {
   "cell_type": "code",
   "execution_count": 86,
   "metadata": {
    "slideshow": {
     "slide_type": "slide"
    }
   },
   "outputs": [
    {
     "data": {
      "image/png": "[encoded data removed]",
      "text/plain": [
       "<Figure size 480x288 with 2 Axes>"
      ]
     },
     "metadata": {
      "needs_background": "light"
     },
     "output_type": "display_data"
    }
   ],
   "source": [
    "plot_confusion_matrix(df_confusion_1_op, cmap='OrRd')"
   ]
  },
  {
   "cell_type": "code",
   "execution_count": 87,
   "metadata": {
    "slideshow": {
     "slide_type": "slide"
    }
   },
   "outputs": [
    {
     "data": {
      "image/png": "[encoded data removed]",
      "text/plain": [
       "<Figure size 480x288 with 2 Axes>"
      ]
     },
     "metadata": {
      "needs_background": "light"
     },
     "output_type": "display_data"
    }
   ],
   "source": [
    "plot_confusion_matrix(df_confusion_1_pe, cmap='YlGn')"
   ]
  },
  {
   "cell_type": "code",
   "execution_count": 88,
   "metadata": {
    "slideshow": {
     "slide_type": "slide"
    }
   },
   "outputs": [
    {
     "data": {
      "image/png": "[encoded data removed]",
      "text/plain": [
       "<Figure size 360x288 with 2 Axes>"
      ]
     },
     "metadata": {
      "needs_background": "light"
     },
     "output_type": "display_data"
    }
   ],
   "source": [
    "plot_confusion_matrix(df_confusion_2_op, cmap='OrRd')"
   ]
  },
  {
   "cell_type": "code",
   "execution_count": 89,
   "metadata": {
    "slideshow": {
     "slide_type": "slide"
    }
   },
   "outputs": [
    {
     "data": {
      "image/png": "[encoded data removed]",
      "text/plain": [
       "<Figure size 288x288 with 2 Axes>"
      ]
     },
     "metadata": {
      "needs_background": "light"
     },
     "output_type": "display_data"
    }
   ],
   "source": [
    "plot_confusion_matrix(df_confusion_2_pe, cmap='YlGn')"
   ]
  },
  {
   "cell_type": "markdown",
   "metadata": {
    "slideshow": {
     "slide_type": "slide"
    }
   },
   "source": [
    "### Méthode 3 : Arbre de Décision"
   ]
  },
  {
   "cell_type": "markdown",
   "metadata": {
    "slideshow": {
     "slide_type": "subslide"
    }
   },
   "source": [
    "**Question 8**"
   ]
  },
  {
   "cell_type": "code",
   "execution_count": 90,
   "metadata": {
    "slideshow": {
     "slide_type": "fragment"
    }
   },
   "outputs": [],
   "source": [
    "class decisionnode:\n",
    "    def __init__(self, col=-1, value=None, results=None, tb=None, fb=None):\n",
    "        self.col = col  # column index of criteria being tested\n",
    "        self.value = value  # vlaue necessary to get a true result\n",
    "        self.results = results  # dict of results for a branch, None for everything except endpoints\n",
    "        self.tb = tb  # true decision nodes\n",
    "        self.fb = fb  # false decision nodes\n",
    "\n",
    "# Divides a set on a specific column. Can handle numeric or nominal values\n",
    "\n",
    "def divideset(rows, column, value):\n",
    "    # Make a function that tells us if a row is in the first group\n",
    "    # (true) or the second group (false)\n",
    "    split_function = None\n",
    "    # for numerical values\n",
    "    if isinstance(value, int) or isinstance(value, float):\n",
    "        split_function = lambda row: row[column] >= value\n",
    "    # for nominal values\n",
    "    else:\n",
    "        split_function = lambda row: row[column] == value\n",
    "\n",
    "    # Divide the rows into two sets and return them\n",
    "    set1 = [row for row in rows if split_function(row)]  # if split_function(row)\n",
    "    set2 = [row for row in rows if not split_function(row)]\n",
    "    return (set1, set2)\n",
    "\n",
    "# Create counts of possible results (last column of each row is the result)\n",
    "def uniquecounts(rows):\n",
    "    results = {}\n",
    "    for row in rows:\n",
    "        # The result is the last column\n",
    "        r = row[len(row) - 1]\n",
    "        if r not in results: results[r] = 0\n",
    "        results[r] += 1\n",
    "    return results\n",
    "\n",
    "from collections import defaultdict\n",
    "\n",
    "def uniquecounts_dd(rows):\n",
    "    results = defaultdict(lambda: 0)\n",
    "    for row in rows:\n",
    "        r = row[len(row) - 1]\n",
    "        results[r] += 1\n",
    "    return dict(results)\n",
    "\n",
    "# Entropy is the sum of p(x)log(p(x)) across all the different possible results\n",
    "def entropy(rows):\n",
    "    from math import log\n",
    "    log2 = lambda x: log(x) / log(2)\n",
    "    results = uniquecounts(rows)\n",
    "    # Now calculate the entropy\n",
    "    ent = 0.0\n",
    "    for r in results.keys():\n",
    "        # current probability of class\n",
    "        p = float(results[r]) / len(rows)\n",
    "        ent = ent - p * log2(p)\n",
    "    return ent\n",
    "\n",
    "def buildtree(rows, scorefun=entropy):\n",
    "    if len(rows) == 0: return decisionnode()\n",
    "    current_score = scorefun(rows)\n",
    "\n",
    "    best_gain = 0.0\n",
    "    best_criteria = None\n",
    "    best_sets = None\n",
    "\n",
    "    column_count = len(rows[0]) - 1  # last column is result\n",
    "    for col in range(0, column_count):\n",
    "        # find different values in this column\n",
    "        column_values = set([row[col] for row in rows])\n",
    "\n",
    "        # for each possible value, try to divide on that value\n",
    "        for value in column_values:\n",
    "            set1, set2 = divideset(rows, col, value)\n",
    "\n",
    "            # Information gain\n",
    "            p = float(len(set1)) / len(rows)\n",
    "            gain = current_score - p * scorefun(set1) - (1 - p) * scorefun(set2)\n",
    "            if gain > best_gain and len(set1) > 0 and len(set2) > 0:\n",
    "                best_gain = gain\n",
    "                best_criteria = (col, value)\n",
    "                best_sets = (set1, set2)\n",
    "\n",
    "    if best_gain > 0:\n",
    "        trueBranch = buildtree(best_sets[0])\n",
    "        falseBranch = buildtree(best_sets[1])\n",
    "        return decisionnode(col=best_criteria[0], value=best_criteria[1],\n",
    "                            tb=trueBranch, fb=falseBranch)\n",
    "    else:\n",
    "        return decisionnode(results=uniquecounts(rows))\n",
    "\n",
    "\n",
    "def printtree(tree, indent=''):\n",
    "    # Is this a leaf node?\n",
    "    if tree.results != None:\n",
    "        print(str(tree.results))\n",
    "    else:\n",
    "        # Print the criteria\n",
    "        print('Column ' + str(tree.col) + ' : ' + str(tree.value) + '? ')\n",
    "        \n",
    "        # Print the branches\n",
    "        print(indent + 'True->', printtree(tree.tb, indent + '  '))\n",
    "        print(indent + 'False->',printtree(tree.fb, indent + '  '))"
   ]
  },
  {
   "cell_type": "code",
   "execution_count": 91,
   "metadata": {
    "slideshow": {
     "slide_type": "subslide"
    }
   },
   "outputs": [],
   "source": [
    "my_data = [\n",
    "    [3, 3, 5],\n",
    "    [2, 2, 4],\n",
    "    [1, 3, 3],\n",
    "    [1, 3, 3],\n",
    "    [1, 1, 3],\n",
    "    [2, 1, 3],\n",
    "    [2, -1, 3],\n",
    "    [1, -1, 3],\n",
    "    [2, -1, 2],\n",
    "    [2, -2, 2],\n",
    "    [2, -2, 2],\n",
    "    [1, -2, 1]\n",
    "]"
   ]
  },
  {
   "cell_type": "code",
   "execution_count": 92,
   "metadata": {
    "slideshow": {
     "slide_type": "subslide"
    }
   },
   "outputs": [
    {
     "name": "stdout",
     "output_type": "stream",
     "text": [
      "Column 1 : -1? \n",
      "Column 0 : 3? \n",
      "{5: 1}\n",
      "  True-> None\n",
      "Column 0 : 2? \n",
      "Column 1 : 2? \n",
      "{4: 1}\n",
      "      True-> None\n",
      "Column 1 : 1? \n",
      "{3: 1}\n",
      "        True-> None\n",
      "{3: 1, 2: 1}\n",
      "        False-> None\n",
      "      False-> None\n",
      "    True-> None\n",
      "{3: 4}\n",
      "    False-> None\n",
      "  False-> None\n",
      "True-> None\n",
      "Column 0 : 2? \n",
      "{2: 2}\n",
      "  True-> None\n",
      "{1: 1}\n",
      "  False-> None\n",
      "False-> None\n"
     ]
    }
   ],
   "source": [
    "printtree(buildtree(my_data))"
   ]
  },
  {
   "cell_type": "markdown",
   "metadata": {
    "slideshow": {
     "slide_type": "slide"
    }
   },
   "source": [
    "## Partie 2 : Comparatif Aérosols"
   ]
  },
  {
   "cell_type": "markdown",
   "metadata": {
    "slideshow": {
     "slide_type": "subslide"
    }
   },
   "source": [
    "### 1e Méthode : PL"
   ]
  },
  {
   "cell_type": "code",
   "execution_count": 93,
   "metadata": {
    "slideshow": {
     "slide_type": "subslide"
    }
   },
   "outputs": [
    {
     "name": "stdout",
     "output_type": "stream",
     "text": [
      "Question 2.1\n",
      "status: optimal\n",
      "objective value: 18.95\n",
      "----------\n",
      "f1 = 18.95\n",
      "f2 = 12.899999999999999\n",
      "f3 = 12.299999999999999\n",
      "f4 = 10.9\n",
      "f5 = 10.9\n",
      "f6 = 10.0\n",
      "f7 = 7.700000000000001\n",
      "f8 = 7.6000000000000005\n",
      "f9 = 5.4\n",
      "f10 = 5.4\n",
      "f11 = 5.4\n",
      "f12 = 4.7\n",
      "----------------------------------------\n",
      "Question 2.2\n",
      "status: optimal\n",
      "objective value: 17.499999999999996\n",
      "----------\n",
      "f1 = 17.499999999999996\n",
      "f2 = 15.000000000000005\n",
      "f3 = 14.000000000000004\n",
      "f4 = 12.000000000000004\n",
      "f5 = 12.000000000000004\n",
      "f6 = 11.0\n",
      "f7 = 8.5\n",
      "f8 = 7.999999999999999\n",
      "f9 = 6.500000000000001\n",
      "f10 = 6.500000000000001\n",
      "f11 = 6.500000000000001\n",
      "f12 = 6.0\n",
      "----------------------------------------\n",
      "Question 3\n",
      "status: optimal\n",
      "objective value: 18.950000000000003\n",
      "----------\n",
      "f1 = 18.950000000000003\n",
      "f2 = 12.400000000000002\n",
      "f3 = 12.3\n",
      "f4 = 10.9\n",
      "f5 = 10.1\n",
      "f6 = 10.0\n",
      "f7 = 7.699999999999999\n",
      "f8 = 7.6\n",
      "f9 = 3.4\n",
      "f10 = 4.8\n",
      "f11 = 4.8\n",
      "f12 = 4.7\n",
      "----------------------------------------\n",
      "Question 4\n",
      "status: optimal\n",
      "objective value: 18.95\n",
      "----------\n",
      "f1 = 18.95\n",
      "f2 = 12.9\n",
      "f3 = 12.3\n",
      "f4 = 10.9\n",
      "f5 = 9.700000000000001\n",
      "f6 = 10.0\n",
      "f7 = 5.0\n",
      "f8 = 7.6\n",
      "f9 = 3.4\n",
      "f10 = 2.6\n",
      "f11 = 4.7\n",
      "f12 = 4.7\n",
      "----------------------------------------\n"
     ]
    }
   ],
   "source": [
    "print(\"Question 2.1\")\n",
    "CheckAdditiveModel('criteresAEROSOL.csv', 'intervalles.csv', \"2.1\")\n",
    "print(\"----------------------------------------\")\n",
    "print(\"Question 2.2\")\n",
    "CheckAdditiveModel('criteresAEROSOL.csv', 'intervalles.csv', \"2.2\")\n",
    "print(\"----------------------------------------\")\n",
    "print(\"Question 3\")\n",
    "CheckAdditiveModel('criteresAEROSOL.csv', 'intervalles.csv', \"3\")\n",
    "print(\"----------------------------------------\")\n",
    "print(\"Question 4\")\n",
    "CheckAdditiveModel('criteresAEROSOL.csv', 'intervalles.csv', \"4\")\n",
    "print(\"----------------------------------------\")"
   ]
  },
  {
   "cell_type": "markdown",
   "metadata": {
    "slideshow": {
     "slide_type": "slide"
    }
   },
   "source": [
    "### 2e Méthode : ELECTRE TRI"
   ]
  },
  {
   "cell_type": "code",
   "execution_count": 94,
   "metadata": {
    "slideshow": {
     "slide_type": "subslide"
    }
   },
   "outputs": [],
   "source": [
    "poids, mat, result,types = readFileCSVData('criteresAEROSOL.csv')\n",
    "### Transforming structure\n",
    "flat_list = []\n",
    "for sublist in mat:\n",
    "    tempL=[]\n",
    "    for item in sublist:\n",
    "        if isinstance(item,list):\n",
    "            for note in item:\n",
    "                tempL.append(int(note))\n",
    "        else:\n",
    "            tempL.append(item)\n",
    "    flat_list.append(tempL)\n",
    "mat = flat_list\n",
    "##\n",
    "# Creation matrice de profils\n",
    "nomList = ['Profil 6 : Frontiere Le meilleur, impossible','Profil 5 : Dans les premiers','Profil 4 : Moyen +','Profil 3 : Moyen -','Profil 2 : Dans les derniers','Profil 1 : Frontiere Le pire,impossible']\n",
    "valuesList = [100,3,2,1,-1,-2,-100]\n",
    "nbCriteres = len(poids)\n",
    "matrice_profils = createMatriceProfils(nomList,valuesList,nbCriteres)\n",
    "categorie = ['Très bon', 'Bon', 'Acceptable', 'Insuffisant', 'Inacceptable']"
   ]
  },
  {
   "cell_type": "code",
   "execution_count": 95,
   "metadata": {
    "slideshow": {
     "slide_type": "slide"
    }
   },
   "outputs": [
    {
     "data": {
      "text/html": [
       "<div>\n",
       "<style scoped>\n",
       "    .dataframe tbody tr th:only-of-type {\n",
       "        vertical-align: middle;\n",
       "    }\n",
       "\n",
       "    .dataframe tbody tr th {\n",
       "        vertical-align: top;\n",
       "    }\n",
       "\n",
       "    .dataframe thead th {\n",
       "        text-align: right;\n",
       "    }\n",
       "</style>\n",
       "<table border=\"1\" class=\"dataframe\">\n",
       "  <thead>\n",
       "    <tr style=\"text-align: right;\">\n",
       "      <th></th>\n",
       "      <th>Electre Optimiste</th>\n",
       "      <th>Electre Pessimiste</th>\n",
       "    </tr>\n",
       "  </thead>\n",
       "  <tbody>\n",
       "    <tr>\n",
       "      <th>Air Wick</th>\n",
       "      <td>Bon</td>\n",
       "      <td>Bon</td>\n",
       "    </tr>\n",
       "    <tr>\n",
       "      <th>Arkopharma</th>\n",
       "      <td>Acceptable</td>\n",
       "      <td>Acceptable</td>\n",
       "    </tr>\n",
       "    <tr>\n",
       "      <th>Biocoop</th>\n",
       "      <td>Acceptable</td>\n",
       "      <td>Acceptable</td>\n",
       "    </tr>\n",
       "    <tr>\n",
       "      <th>Daccide</th>\n",
       "      <td>Acceptable</td>\n",
       "      <td>Acceptable</td>\n",
       "    </tr>\n",
       "    <tr>\n",
       "      <th>Etamine du Lys</th>\n",
       "      <td>Très bon</td>\n",
       "      <td>Très bon</td>\n",
       "    </tr>\n",
       "    <tr>\n",
       "      <th>LCA</th>\n",
       "      <td>Insuffisant</td>\n",
       "      <td>Insuffisant</td>\n",
       "    </tr>\n",
       "    <tr>\n",
       "      <th>Ladrôme Laboratoire</th>\n",
       "      <td>Inacceptable</td>\n",
       "      <td>Inacceptable</td>\n",
       "    </tr>\n",
       "    <tr>\n",
       "      <th>Le Comptoir Aroma</th>\n",
       "      <td>Inacceptable</td>\n",
       "      <td>Inacceptable</td>\n",
       "    </tr>\n",
       "    <tr>\n",
       "      <th>Nature et Découvertes</th>\n",
       "      <td>Acceptable</td>\n",
       "      <td>Acceptable</td>\n",
       "    </tr>\n",
       "    <tr>\n",
       "      <th>Pranarom</th>\n",
       "      <td>Inacceptable</td>\n",
       "      <td>Inacceptable</td>\n",
       "    </tr>\n",
       "    <tr>\n",
       "      <th>Puressentiel</th>\n",
       "      <td>Inacceptable</td>\n",
       "      <td>Inacceptable</td>\n",
       "    </tr>\n",
       "    <tr>\n",
       "      <th>Ushuaïa</th>\n",
       "      <td>Insuffisant</td>\n",
       "      <td>Inacceptable</td>\n",
       "    </tr>\n",
       "  </tbody>\n",
       "</table>\n",
       "</div>"
      ],
      "text/plain": [
       "                      Electre Optimiste Electre Pessimiste\n",
       "Air Wick                            Bon                Bon\n",
       "Arkopharma                   Acceptable         Acceptable\n",
       "Biocoop                      Acceptable         Acceptable\n",
       "Daccide                      Acceptable         Acceptable\n",
       "Etamine du Lys                 Très bon           Très bon\n",
       "LCA                         Insuffisant        Insuffisant\n",
       "Ladrôme Laboratoire        Inacceptable       Inacceptable\n",
       "Le Comptoir Aroma          Inacceptable       Inacceptable\n",
       "Nature et Découvertes        Acceptable         Acceptable\n",
       "Pranarom                   Inacceptable       Inacceptable\n",
       "Puressentiel               Inacceptable       Inacceptable\n",
       "Ushuaïa                     Insuffisant       Inacceptable"
      ]
     },
     "metadata": {},
     "output_type": "display_data"
    }
   ],
   "source": [
    "## Seuil 55%\n",
    "op = EvalOptimiste(mat, matrice_profils, poids, types, 0.55)\n",
    "pe = EvalPessimiste(mat, matrice_profils, poids, types, 0.55)\n",
    "final_results = {key: [op[key], pe[key]] for key in op}\n",
    "df_l1 = pd.DataFrame(final_results)\n",
    "df_l1 = pd.DataFrame.from_records(final_results).T\n",
    "df_l1.columns = ['Electre Optimiste', 'Electre Pessimiste']\n",
    "print(df_l1)"
   ]
  },
  {
   "cell_type": "code",
   "execution_count": 103,
   "metadata": {
    "slideshow": {
     "slide_type": "slide"
    }
   },
   "outputs": [
    {
     "data": {
      "text/html": [
       "<div>\n",
       "<style scoped>\n",
       "    .dataframe tbody tr th:only-of-type {\n",
       "        vertical-align: middle;\n",
       "    }\n",
       "\n",
       "    .dataframe tbody tr th {\n",
       "        vertical-align: top;\n",
       "    }\n",
       "\n",
       "    .dataframe thead th {\n",
       "        text-align: right;\n",
       "    }\n",
       "</style>\n",
       "<table border=\"1\" class=\"dataframe\">\n",
       "  <thead>\n",
       "    <tr style=\"text-align: right;\">\n",
       "      <th></th>\n",
       "      <th>Electre Optimiste</th>\n",
       "      <th>Electre Pessimiste</th>\n",
       "    </tr>\n",
       "  </thead>\n",
       "  <tbody>\n",
       "    <tr>\n",
       "      <th>Air Wick</th>\n",
       "      <td>Acceptable</td>\n",
       "      <td>Acceptable</td>\n",
       "    </tr>\n",
       "    <tr>\n",
       "      <th>Arkopharma</th>\n",
       "      <td>Acceptable</td>\n",
       "      <td>Acceptable</td>\n",
       "    </tr>\n",
       "    <tr>\n",
       "      <th>Biocoop</th>\n",
       "      <td>Acceptable</td>\n",
       "      <td>Acceptable</td>\n",
       "    </tr>\n",
       "    <tr>\n",
       "      <th>Daccide</th>\n",
       "      <td>Insuffisant</td>\n",
       "      <td>Insuffisant</td>\n",
       "    </tr>\n",
       "    <tr>\n",
       "      <th>Etamine du Lys</th>\n",
       "      <td>Bon</td>\n",
       "      <td>Bon</td>\n",
       "    </tr>\n",
       "    <tr>\n",
       "      <th>LCA</th>\n",
       "      <td>Insuffisant</td>\n",
       "      <td>Insuffisant</td>\n",
       "    </tr>\n",
       "    <tr>\n",
       "      <th>Ladrôme Laboratoire</th>\n",
       "      <td>Inacceptable</td>\n",
       "      <td>Inacceptable</td>\n",
       "    </tr>\n",
       "    <tr>\n",
       "      <th>Le Comptoir Aroma</th>\n",
       "      <td>Inacceptable</td>\n",
       "      <td>Inacceptable</td>\n",
       "    </tr>\n",
       "    <tr>\n",
       "      <th>Nature et Découvertes</th>\n",
       "      <td>Acceptable</td>\n",
       "      <td>Acceptable</td>\n",
       "    </tr>\n",
       "    <tr>\n",
       "      <th>Pranarom</th>\n",
       "      <td>Inacceptable</td>\n",
       "      <td>Inacceptable</td>\n",
       "    </tr>\n",
       "    <tr>\n",
       "      <th>Puressentiel</th>\n",
       "      <td>Inacceptable</td>\n",
       "      <td>Inacceptable</td>\n",
       "    </tr>\n",
       "    <tr>\n",
       "      <th>Ushuaïa</th>\n",
       "      <td>Insuffisant</td>\n",
       "      <td>Inacceptable</td>\n",
       "    </tr>\n",
       "  </tbody>\n",
       "</table>\n",
       "</div>"
      ],
      "text/plain": [
       "                      Electre Optimiste Electre Pessimiste\n",
       "Air Wick                     Acceptable         Acceptable\n",
       "Arkopharma                   Acceptable         Acceptable\n",
       "Biocoop                      Acceptable         Acceptable\n",
       "Daccide                     Insuffisant        Insuffisant\n",
       "Etamine du Lys                      Bon                Bon\n",
       "LCA                         Insuffisant        Insuffisant\n",
       "Ladrôme Laboratoire        Inacceptable       Inacceptable\n",
       "Le Comptoir Aroma          Inacceptable       Inacceptable\n",
       "Nature et Découvertes        Acceptable         Acceptable\n",
       "Pranarom                   Inacceptable       Inacceptable\n",
       "Puressentiel               Inacceptable       Inacceptable\n",
       "Ushuaïa                     Insuffisant       Inacceptable"
      ]
     },
     "metadata": {},
     "output_type": "display_data"
    }
   ],
   "source": [
    "## Seuil 75%\n",
    "op = EvalOptimiste(mat, matrice_profils, poids, types, 0.75)\n",
    "pe = EvalPessimiste(mat, matrice_profils, poids, types, 0.75)\n",
    "final_results = {key: [op[key], pe[key]] for key in op}\n",
    "df_l2 = pd.DataFrame(final_results)\n",
    "df_l2 = pd.DataFrame.from_records(final_results).T\n",
    "df_l2.columns = ['Electre Optimiste', 'Electre Pessimiste']"
   ]
  },
  {
   "cell_type": "code",
   "execution_count": 105,
   "metadata": {
    "slideshow": {
     "slide_type": "slide"
    }
   },
   "outputs": [
    {
     "name": "stdout",
     "output_type": "stream",
     "text": [
      "                      Electre Optimiste Electre Pessimiste\n",
      "Air Wick                     Acceptable         Acceptable\n",
      "Arkopharma                   Acceptable         Acceptable\n",
      "Biocoop                      Acceptable         Acceptable\n",
      "Daccide                     Insuffisant        Insuffisant\n",
      "Etamine du Lys                      Bon                Bon\n",
      "LCA                         Insuffisant        Insuffisant\n",
      "Ladrôme Laboratoire        Inacceptable       Inacceptable\n",
      "Le Comptoir Aroma          Inacceptable       Inacceptable\n",
      "Nature et Découvertes        Acceptable         Acceptable\n",
      "Pranarom                   Inacceptable       Inacceptable\n",
      "Puressentiel               Inacceptable       Inacceptable\n",
      "Ushuaïa                     Insuffisant       Inacceptable\n"
     ]
    }
   ],
   "source": [
    "print(df_l2)"
   ]
  },
  {
   "cell_type": "code",
   "execution_count": 97,
   "metadata": {
    "slideshow": {
     "slide_type": "slide"
    }
   },
   "outputs": [
    {
     "name": "stdout",
     "output_type": "stream",
     "text": [
      "                        60 Millions\n",
      "Couche                             \n",
      "Etamine du Lys             Très bon\n",
      "Air Wick                        Bon\n",
      "Biocoop                         Bon\n",
      "Nature et Découvertes    Acceptable\n",
      "Daccide                  Acceptable\n",
      "Arkopharma               Acceptable\n",
      "Ushuaïa                 Insuffisant\n",
      "LCA                     Insuffisant\n",
      "Ladrôme Laboratoire    Inacceptable\n",
      "Pranarom               Inacceptable\n",
      "Le Comptoir Aroma      Inacceptable\n",
      "Puressentiel           Inacceptable\n"
     ]
    }
   ],
   "source": [
    "# Matrices de confusion\n",
    "inter = readFileCSVInterval('intervalles.csv')\n",
    "# serieAERO contient le classement final concu par 60 Millions de Conso.\n",
    "serieAERO = attributeGroup(result,inter,categorie,valuesList)\n",
    "print(serieAERO)\n",
    "\n",
    "# On crée les 4 matrices de confusion\n",
    "df_confusion_1_op = pd.crosstab(df_l1['Electre Optimiste'], serieAERO['60 Millions'])\n",
    "df_confusion_1_pe = pd.crosstab(df_l1['Electre Pessimiste'], serieAERO['60 Millions'])\n",
    "df_confusion_2_op = pd.crosstab(df_l2['Electre Optimiste'], serieAERO['60 Millions'])\n",
    "df_confusion_2_pe = pd.crosstab(df_l2['Electre Pessimiste'], serieAERO['60 Millions'])"
   ]
  },
  {
   "cell_type": "code",
   "execution_count": 98,
   "metadata": {
    "slideshow": {
     "slide_type": "slide"
    }
   },
   "outputs": [
    {
     "data": {
      "image/png": "[encoded data removed]",
      "text/plain": [
       "<Figure size 288x288 with 2 Axes>"
      ]
     },
     "metadata": {
      "needs_background": "light"
     },
     "output_type": "display_data"
    }
   ],
   "source": [
    "plot_confusion_matrix(df_confusion_1_op, cmap='OrRd')"
   ]
  },
  {
   "cell_type": "code",
   "execution_count": 99,
   "metadata": {
    "slideshow": {
     "slide_type": "slide"
    }
   },
   "outputs": [
    {
     "data": {
      "image/png": "[encoded data removed]",
      "text/plain": [
       "<Figure size 288x288 with 2 Axes>"
      ]
     },
     "metadata": {
      "needs_background": "light"
     },
     "output_type": "display_data"
    }
   ],
   "source": [
    "plot_confusion_matrix(df_confusion_1_pe, cmap='YlGn')"
   ]
  },
  {
   "cell_type": "code",
   "execution_count": 100,
   "metadata": {
    "slideshow": {
     "slide_type": "slide"
    }
   },
   "outputs": [
    {
     "data": {
      "image/png": "[encoded data removed]",
      "text/plain": [
       "<Figure size 360x288 with 2 Axes>"
      ]
     },
     "metadata": {
      "needs_background": "light"
     },
     "output_type": "display_data"
    }
   ],
   "source": [
    "plot_confusion_matrix(df_confusion_2_op, cmap='OrRd')"
   ]
  },
  {
   "cell_type": "code",
   "execution_count": 101,
   "metadata": {
    "slideshow": {
     "slide_type": "slide"
    }
   },
   "outputs": [
    {
     "data": {
      "image/png": "[encoded data removed]",
      "text/plain": [
       "<Figure size 360x288 with 2 Axes>"
      ]
     },
     "metadata": {
      "needs_background": "light"
     },
     "output_type": "display_data"
    }
   ],
   "source": [
    "plot_confusion_matrix(df_confusion_2_pe, cmap='YlGn')"
   ]
  },
  {
   "cell_type": "markdown",
   "metadata": {
    "slideshow": {
     "slide_type": "slide"
    }
   },
   "source": [
    "Conclusion : Avec méthode optimiste avec lambda à 0.55, on se rapproche des résultats du magazine ; avec une véritable approche mathématique"
   ]
  },
  {
   "cell_type": "markdown",
   "metadata": {
    "slideshow": {
     "slide_type": "slide"
    }
   },
   "source": [
    "### 3e Méthode : Arbre de décision"
   ]
  },
  {
   "cell_type": "code",
   "execution_count": 102,
   "metadata": {
    "slideshow": {
     "slide_type": "subslide"
    }
   },
   "outputs": [],
   "source": [
    "# code"
   ]
  },
  {
   "cell_type": "markdown",
   "metadata": {
    "slideshow": {
     "slide_type": "slide"
    }
   },
   "source": [
    "## Conclusion"
   ]
  },
  {
   "cell_type": "markdown",
   "metadata": {
    "slideshow": {
     "slide_type": "fragment"
    }
   },
   "source": [
    "**60 Millions de Consommateurs** fourni des comparatifs qui ne veulent rien dire mathématiquement parlant ; car on n'arrive pas à retrouver les coefficients / notes utilisés dans leurs comparatifs.\n",
    "Il parait plus intelligent de mettre en place une méthode et de l'expliquer : cette méthode peut être les coefficents, ELECTRE TRI, ou une un arbre de décision.  "
   ]
  },
  {
   "cell_type": "markdown",
   "metadata": {
    "slideshow": {
     "slide_type": "fragment"
    }
   },
   "source": [
    "Mais le plus important : **c'est de choisir une méthode et de _la rendre publique_**, et pas essayer de la cacher"
   ]
  }
 ],
 "metadata": {
  "celltoolbar": "Slideshow",
  "kernelspec": {
   "display_name": "Python 3.7 64 Bits",
   "language": "python",
   "name": "python37-64"
  },
  "language_info": {
   "codemirror_mode": {
    "name": "ipython",
    "version": 3
   },
   "file_extension": ".py",
   "mimetype": "text/x-python",
   "name": "python",
   "nbconvert_exporter": "python",
   "pygments_lexer": "ipython3",
   "version": "3.7.0"
  },
  "livereveal": {
   "autolaunch": true,
   "scroll": true
  }
 },
 "nbformat": 4,
 "nbformat_minor": 1
}
