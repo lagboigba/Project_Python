{
 "cells": [
  {
   "cell_type": "markdown",
   "metadata": {
    "collapsed": true,
    "slideshow": {
     "slide_type": "slide"
    }
   },
   "source": [
    "# Compte Rendu - Analyse 60 Millions de Consommateurs\n",
    "**_Par Lionel Agboigba, Jules Besson-Legoff, Elie El Chartouni, Romain Scohy et Olympie Suquet_**\n",
    "\n",
    "\n",
    "__Etudiants en M2 MIDO ID - Université Paris-Dauphine__"
   ]
  },
  {
   "cell_type": "markdown",
   "metadata": {
    "slideshow": {
     "slide_type": "subslide"
    }
   },
   "source": [
    "## Partie 1 : Analyse d’un classement de couches-culottes pour enfants"
   ]
  },
  {
   "cell_type": "markdown",
   "metadata": {
    "slideshow": {
     "slide_type": "slide"
    }
   },
   "source": [
    "### Méthode 1 : PL"
   ]
  },
  {
   "cell_type": "markdown",
   "metadata": {
    "slideshow": {
     "slide_type": "fragment"
    }
   },
   "source": [
    "Ci dessous, le code source de la première partie"
   ]
  },
  {
   "cell_type": "code",
   "execution_count": null,
   "metadata": {
    "slideshow": {
     "slide_type": "slide"
    }
   },
   "outputs": [],
   "source": [
    "import csv\n",
    "import numpy as np\n",
    "import pandas as pd\n",
    "from optlang import Model, Variable, Constraint, Objective"
   ]
  },
  {
   "cell_type": "code",
   "execution_count": null,
   "metadata": {
    "slideshow": {
     "slide_type": "slide"
    }
   },
   "outputs": [],
   "source": [
    "def readFileCSVData(file):\n",
    "    \"\"\"\n",
    "    Lit un fichier CSV et retourne les pondérations, les données et les résultats du dossier 60Millions\n",
    "    :param file:filename\n",
    "    :return: ponderation : list\n",
    "             data : list\n",
    "             result : list\n",
    "             types : A maximiser ou minimiser\n",
    "    \"\"\"\n",
    "    ponderation = []\n",
    "    data = []\n",
    "    result = []  #derniere colonne\n",
    "    types = []\n",
    "    with open(file, newline='', encoding='utf-8') as f:\n",
    "        reader = csv.reader(f, delimiter=';')\n",
    "        for row in reader:\n",
    "            if row[0] == 'ponderations':  #lecture des ponderations\n",
    "                for i in range(1, len(row) - 1,2):\n",
    "                    ponderation.append(float(row[i]))\n",
    "                    types.append(str(row[i+1]))\n",
    "            else:  #lecture des donnees et des resultats\n",
    "                #donnees contient les notes et result la moyenne\n",
    "                temp = []\n",
    "                for i in range(1, len(row) - 1):\n",
    "                    temp.append(row[i])\n",
    "                #dicodata={row[0]:temp}\n",
    "                #dicoresult={row[0]:float(row[len(row)-1])}\n",
    "                data.append([row[0], temp])\n",
    "                result.append([row[0], float(row[len(row) - 1])])\n",
    "\n",
    "    return ponderation, data, result, types"
   ]
  },
  {
   "cell_type": "code",
   "execution_count": null,
   "metadata": {
    "slideshow": {
     "slide_type": "slide"
    }
   },
   "outputs": [],
   "source": [
    "def readFileCSVInterval(file):\n",
    "    \"\"\"\n",
    "    Lit un fichier CSV et retourne les intervalles de YYYY\n",
    "    :param file: filename\n",
    "    :return: intervalle : dict\n",
    "    \"\"\"\n",
    "    intervalle = {}\n",
    "    with open(file, newline='', encoding='utf-8') as f:\n",
    "        reader = csv.reader(f, delimiter=';')\n",
    "        for row in reader:\n",
    "            intervalle[row[0]] = [float(row[1]), float(row[2])]\n",
    "    return intervalle"
   ]
  },
  {
   "cell_type": "code",
   "execution_count": null,
   "metadata": {
    "slideshow": {
     "slide_type": "slide"
    }
   },
   "outputs": [],
   "source": [
    "def createVars(nbelements,nbcriteres):\n",
    "    \"\"\"\n",
    "    Retourne les 2 listes de variables correspondant aux notes / scores\n",
    "    :param nbelements: nb d'items à comparer\n",
    "           nbcriteres: nb de critères\n",
    "    :return: U : liste des variables, correspondant aux notes / scores sur un critère pour un produit\n",
    "             f : liste des variables, correspondant aux notes / scores sur un produit\n",
    "    \"\"\"\n",
    "    U = []\n",
    "    f = []\n",
    "    for i in range(nbelements):\n",
    "        x = Variable(\"f\" + str(i + 1), lb=0)\n",
    "        f.append(x)\n",
    "        x = []\n",
    "        for j in range(nbcriteres):\n",
    "            x1 = Variable(\"U\" + str(i + 1) + str(j + 1), lb=0)\n",
    "            x.append(x1)\n",
    "        U.append(x)\n",
    "\n",
    "    return U,f"
   ]
  },
  {
   "cell_type": "code",
   "execution_count": null,
   "metadata": {
    "slideshow": {
     "slide_type": "slide"
    }
   },
   "outputs": [],
   "source": [
    "def constraints1to15(constraintList,ponderation,Uvars,f,nbelements,nbcriteres):\n",
    "    \"\"\"\n",
    "    Retourne la liste des contraintes correspondant à l'écriture de la somme pondérée\n",
    "    :param constraintList: liste des contraintes actuelles\n",
    "           ponderation: liste des poids de chaque critère\n",
    "           Uvars: notes d'un produit sur un critère spécifique\n",
    "           f: note gloable du produit\n",
    "           nbelements: nb d'items à comparer\n",
    "           nbcriteres: nb de critères\n",
    "\n",
    "    :return: C : liste des contraintes\n",
    "    \"\"\"\n",
    "    C = constraintList\n",
    "    for i in range(nbelements):\n",
    "        calcul = 0\n",
    "        for j in range(nbcriteres):\n",
    "            calcul += ponderation[j] * Uvars[i][j]\n",
    "        c = Constraint(calcul - f[i], ub=0, lb=0)\n",
    "        C.append(c)\n",
    "    return C"
   ]
  },
  {
   "cell_type": "code",
   "execution_count": null,
   "metadata": {
    "slideshow": {
     "slide_type": "slide"
    }
   },
   "outputs": [],
   "source": [
    "def createModel2(ponderation, data, result, intervalle, fixed):\n",
    "    \"\"\"\n",
    "    fixed = True ===> fixer les variables f (question 2.1)\n",
    "    fixed = False ===> ne pas fixer les variables f (question 2.2)\n",
    "    \"\"\"\n",
    "    nbelements = len(data)\n",
    "    nbcriteres = len(ponderation)\n",
    "    #creation des variables\n",
    "    U = []\n",
    "    f = []\n",
    "    U,f = createVars(nbelements,nbcriteres)\n",
    "\n",
    "    #creation des contraintes (1) a (15)\n",
    "    C = []\n",
    "    C = constraints1to15(C,ponderation,U,f,nbelements,nbcriteres)\n",
    "\n",
    "    #creation des contraintes (16) a (19)\n",
    "    for i in range(len(result) - 1):\n",
    "        if result[i][1] == result[i + 1][1]:\n",
    "            c = Constraint(f[i] - f[i + 1], ub=0, lb=0)\n",
    "            C.append(c)\n",
    "        else:\n",
    "            c = Constraint(f[i] - f[i + 1] - 0.1, lb=0)\n",
    "            C.append(c)\n",
    "\n",
    "    #creation des contraintes (20) a (29)\n",
    "    for i in range(nbelements):\n",
    "        for j in range(nbcriteres):\n",
    "            c = Constraint(U[i][j], ub=intervalle.get(data[i][1][j])[1], lb=intervalle.get(data[i][1][j])[0])\n",
    "            C.append(c)\n",
    "\n",
    "    #Fixation des variables f\n",
    "    if fixed:\n",
    "        for i in range(nbelements):\n",
    "            c = Constraint(f[i], lb=result[i][1], ub=result[i][1])\n",
    "            C.append(c)\n",
    "\n",
    "    model = Model(name='Modele')\n",
    "    model.objective = Objective(f[0], direction='max')\n",
    "    model.add(C)\n",
    "    return model"
   ]
  },
  {
   "cell_type": "code",
   "execution_count": null,
   "metadata": {
    "slideshow": {
     "slide_type": "slide"
    }
   },
   "outputs": [],
   "source": [
    "\n",
    "def createModel3(ponderation, data, result, intervalle):\n",
    "    nbelements = len(data)\n",
    "    nbcriteres = len(ponderation)\n",
    "\n",
    "    #creation des variables\n",
    "    U = []\n",
    "    f = []\n",
    "    U,f = createVars(nbelements,nbcriteres)\n",
    "\n",
    "    #creation des contraintes (1) a (15)\n",
    "    C = []\n",
    "    C = constraints1to15(C,ponderation,U,f,nbelements,nbcriteres)\n",
    "\n",
    "    #creation des contraintes (16) a (19)\n",
    "    for i in range(len(result) - 1):\n",
    "        if i == 3 or i == 8:\n",
    "            continue\n",
    "        elif result[i][1] == result[i + 1][1]:\n",
    "            c = Constraint(f[i] - f[i + 1], ub=0, lb=0)\n",
    "            C.append(c)\n",
    "        else:\n",
    "            c = Constraint(f[i] - f[i + 1] - 0.1, lb=0)\n",
    "            C.append(c)\n",
    "\n",
    "    #creation des contraintes (20) a (29)\n",
    "    for i in range(nbelements):\n",
    "        for j in range(nbcriteres):\n",
    "            if i == 1 and j == 2:\n",
    "                c = Constraint(U[i][j], ub=intervalle.get(data[i][1][j])[1])\n",
    "                C.append(c)\n",
    "            else:\n",
    "                c = Constraint(U[i][j], ub=intervalle.get(data[i][1][j])[1], lb=intervalle.get(data[i][1][j])[0])\n",
    "                C.append(c)\n",
    "\n",
    "    model = Model(name='Modele')\n",
    "    model.objective = Objective(f[0], direction='max')\n",
    "    model.add(C)\n",
    "    return model"
   ]
  },
  {
   "cell_type": "code",
   "execution_count": null,
   "metadata": {
    "slideshow": {
     "slide_type": "slide"
    }
   },
   "outputs": [],
   "source": [
    "\n",
    "def createModel4(ponderation, data, result, intervalle):\n",
    "    nbelements = len(data)\n",
    "    nbcriteres = len(ponderation)\n",
    "    #creation des variables\n",
    "    U = []\n",
    "    f = []\n",
    "    U,f = createVars(nbelements,nbcriteres)\n",
    "\n",
    "    #creation des contraintes (1) a (15)\n",
    "    C = []\n",
    "    C = constraints1to15(C,ponderation,U,f,nbelements,nbcriteres)\n",
    "\n",
    "    #creation des contraintes (20) a (29)\n",
    "    for i in range(nbelements):\n",
    "        for j in range(nbcriteres):\n",
    "            c = Constraint(U[i][j], ub=intervalle.get(data[i][1][j])[1], lb=intervalle.get(data[i][1][j])[0])\n",
    "            C.append(c)\n",
    "\n",
    "    obj = Objective(f[0], direction='max')\n",
    "    model = Model(name='Modele')\n",
    "    model.objective = obj\n",
    "    model.add(C)\n",
    "    return model"
   ]
  },
  {
   "cell_type": "code",
   "execution_count": null,
   "metadata": {
    "slideshow": {
     "slide_type": "slide"
    }
   },
   "outputs": [],
   "source": [
    "def CheckAdditiveModel(fileData, fileInt, question):\n",
    "    ponderation, data, result,types = readFileCSVData(fileData)\n",
    "    intervalle = readFileCSVInterval(fileInt)\n",
    "    \n",
    "    if question == \"2.1\":\n",
    "        model = createModel2(ponderation, data, result, intervalle, False)\n",
    "    elif question == \"2.2\":\n",
    "        model = createModel2(ponderation, data, result, intervalle, True)\n",
    "    elif question == \"3\":\n",
    "        model = createModel3(ponderation, data, result, intervalle)\n",
    "    elif question == \"4\":\n",
    "        model = createModel4(ponderation, data, result, intervalle)\n",
    "    else:\n",
    "        print(\"Existe pas\")\n",
    "        return\n",
    "\n",
    "    status = model.optimize()\n",
    "    print(\"status:\", model.status)\n",
    "    print(\"objective value:\", model.objective.value)\n",
    "    print(\"----------\")\n",
    "    for var_name, var in model.variables.items():\n",
    "        if var_name.startswith(\"f\"):\n",
    "            print(var_name, \"=\", var.primal)\n"
   ]
  },
  {
   "cell_type": "markdown",
   "metadata": {
    "slideshow": {
     "slide_type": "slide"
    }
   },
   "source": [
    "**Question 1: CheckAdditiveModel**"
   ]
  },
  {
   "cell_type": "code",
   "execution_count": null,
   "metadata": {
    "slideshow": {
     "slide_type": "fragment"
    }
   },
   "outputs": [],
   "source": [
    "print(\"Question 2.1\")\n",
    "CheckAdditiveModel('criteres.csv', 'intervalles.csv', \"2.1\")"
   ]
  },
  {
   "cell_type": "markdown",
   "metadata": {
    "slideshow": {
     "slide_type": "slide"
    }
   },
   "source": [
    "**Question 2.2**"
   ]
  },
  {
   "cell_type": "code",
   "execution_count": null,
   "metadata": {
    "slideshow": {
     "slide_type": "fragment"
    }
   },
   "outputs": [],
   "source": [
    "print(\"Question 2.2\")\n",
    "CheckAdditiveModel('criteres.csv', 'intervalles.csv', \"2.2\")"
   ]
  },
  {
   "cell_type": "markdown",
   "metadata": {
    "slideshow": {
     "slide_type": "slide"
    }
   },
   "source": [
    "**Question 3**"
   ]
  },
  {
   "cell_type": "code",
   "execution_count": null,
   "metadata": {
    "slideshow": {
     "slide_type": "fragment"
    }
   },
   "outputs": [],
   "source": [
    "print(\"Question 3\")\n",
    "CheckAdditiveModel('criteres.csv', 'intervalles.csv', \"3\")"
   ]
  },
  {
   "cell_type": "markdown",
   "metadata": {
    "slideshow": {
     "slide_type": "slide"
    }
   },
   "source": [
    "**Question 4**"
   ]
  },
  {
   "cell_type": "code",
   "execution_count": null,
   "metadata": {
    "slideshow": {
     "slide_type": "fragment"
    }
   },
   "outputs": [],
   "source": [
    "print(\"Question 4\")\n",
    "CheckAdditiveModel('criteres.csv', 'intervalles.csv', \"4\")"
   ]
  },
  {
   "cell_type": "markdown",
   "metadata": {
    "slideshow": {
     "slide_type": "slide"
    }
   },
   "source": [
    "### Méthode 2 : ELECTRE TRI"
   ]
  },
  {
   "cell_type": "markdown",
   "metadata": {
    "slideshow": {
     "slide_type": "fragment"
    }
   },
   "source": [
    "**Code source de la 2e méthode**"
   ]
  },
  {
   "cell_type": "code",
   "execution_count": null,
   "metadata": {
    "slideshow": {
     "slide_type": "slide"
    }
   },
   "outputs": [],
   "source": [
    "def concordance_partiel(type, h, bi, j):\n",
    "    \"\"\"\n",
    "\n",
    "    :param h: 1 Couche-culotte (donc liste)\n",
    "    :param bi: profil (frontière qui YYYY)\n",
    "    :param j: critère\n",
    "    :return: 1 si H est au-moins aussi bon que bi sur le critère j, 0 sinon\n",
    "    \"\"\"\n",
    "    if (type == 'max'):\n",
    "        if h[j] >= bi[j]:\n",
    "            return 1\n",
    "        else:\n",
    "            return 0\n",
    "    elif (type == 'min'):\n",
    "        if h[j] <= bi[j]:\n",
    "            return 1\n",
    "        else:\n",
    "            return 0\n",
    "    else:\n",
    "        return -1"
   ]
  },
  {
   "cell_type": "code",
   "execution_count": null,
   "metadata": {
    "slideshow": {
     "slide_type": "slide"
    }
   },
   "outputs": [],
   "source": [
    "def concordanceGlobal(h, bi, poids, type):\n",
    "    \"\"\"\n",
    "    :param type: vecteur contenant ['min'/'max'] pour chaque critere\n",
    "    :param h: Couche culotte (liste)\n",
    "    :param bi: profil (frontière qui YYYY)\n",
    "    :param poids: vecteur contenant poids pour chaque critere\n",
    "    :return: indice de concordance global, -1 si erreur\n",
    "    \"\"\"\n",
    "    numerateur = 0.0\n",
    "    denom = 0.0\n",
    "    # Pour chaque critère j\n",
    "    for j in range(1, len(h)):\n",
    "        numerateur += poids[j - 1] * concordance_partiel(type[j - 1], h, bi, j)\n",
    "        denom += poids[j - 1]\n",
    "    return numerateur / denom"
   ]
  },
  {
   "cell_type": "code",
   "execution_count": null,
   "metadata": {
    "slideshow": {
     "slide_type": "slide"
    }
   },
   "outputs": [],
   "source": [
    "def Surclasse(seuilMajorite, h, bi, poids, type):\n",
    "    \"\"\"\n",
    "\n",
    "    :param type: vecteur contenant ['min'/'max'] pour chaque critere\n",
    "    :param seuilMajorite:\n",
    "    :param h:\n",
    "    :param bi:\n",
    "    :param poids:\n",
    "    :return:\n",
    "    \"\"\"\n",
    "    if concordanceGlobal(h, bi, poids, type) >= seuilMajorite:\n",
    "        return True\n",
    "    else:\n",
    "        return False"
   ]
  },
  {
   "cell_type": "code",
   "execution_count": null,
   "metadata": {
    "slideshow": {
     "slide_type": "slide"
    }
   },
   "outputs": [],
   "source": [
    "def AffectationOptimiste(h, classement, poids, type, seuil):\n",
    "    \"\"\"\n",
    "\n",
    "    :param h:\n",
    "    :param classement:\n",
    "    :param poids:\n",
    "    :param type:\n",
    "    :param seuil:\n",
    "    :return:\n",
    "    \"\"\"\n",
    "    profil = len(classement) - 1  # OPTIMISATION : on peut commencer à len -2 car len-1 est forcement surclassé\n",
    "    while (not (Surclasse(seuil, classement[profil], h, poids, type)) or (\n",
    "        Surclasse(seuil, h, classement[profil], poids, type))):\n",
    "        profil -= 1\n",
    "    return profil "
   ]
  },
  {
   "cell_type": "code",
   "execution_count": null,
   "metadata": {
    "slideshow": {
     "slide_type": "slide"
    }
   },
   "outputs": [],
   "source": [
    "def AffectationPessimiste(h, classement, poids, type, seuil):\n",
    "    \"\"\"\n",
    "\n",
    "    :param h:\n",
    "    :param classement:\n",
    "    :param poids:\n",
    "    :param type:\n",
    "    :param seuil:\n",
    "    :return:\n",
    "    \"\"\"\n",
    "    profil = 0\n",
    "    while not (Surclasse(seuil, h, classement[profil], poids, type)):\n",
    "        profil += 1\n",
    "    return profil"
   ]
  },
  {
   "cell_type": "code",
   "execution_count": null,
   "metadata": {
    "slideshow": {
     "slide_type": "slide"
    }
   },
   "outputs": [],
   "source": [
    "def EvalOptimiste(lesCouches, classement, poids, type, seuil):\n",
    "    \"\"\"\n",
    "\n",
    "    :param lesCouches:\n",
    "    :param classement:\n",
    "    :param poids:\n",
    "    :param type:\n",
    "    :param seuil:\n",
    "    :return:\n",
    "    \"\"\"\n",
    "    liste = []\n",
    "    dict = {}\n",
    "    # pour chaque element de la matrice (une couche culotte), en partant de l'indice max (matrice profils[i][0]), on descend\n",
    "    for couche in range(0, len(lesCouches)):\n",
    "        dict[str(lesCouches[couche][0])] = categorie[\n",
    "            AffectationOptimiste(lesCouches[couche], classement, poids, type, seuil)]\n",
    "    return dict"
   ]
  },
  {
   "cell_type": "code",
   "execution_count": null,
   "metadata": {
    "slideshow": {
     "slide_type": "slide"
    }
   },
   "outputs": [],
   "source": [
    "def EvalPessimiste(lesCouches, classement, poids, type, seuil):\n",
    "    \"\"\"\n",
    "\n",
    "    :param lesCouches:\n",
    "    :param classement:\n",
    "    :param poids:\n",
    "    :param type:\n",
    "    :param seuil:\n",
    "    :return:\n",
    "    \"\"\"\n",
    "    liste = []\n",
    "    dict = {}\n",
    "    for couche in range(0, len(lesCouches)):\n",
    "        dict[str(lesCouches[couche][0])] = categorie[\n",
    "            AffectationPessimiste(lesCouches[couche], classement, poids, type, seuil) - 1]  #return liste\n",
    "    return dict\n"
   ]
  },
  {
   "cell_type": "code",
   "execution_count": null,
   "metadata": {
    "slideshow": {
     "slide_type": "slide"
    }
   },
   "outputs": [],
   "source": [
    "def createMatriceProfils(nomList,val,nbCriteres):\n",
    "    \"\"\"\n",
    "    \"\"\"\n",
    "    matrice = []\n",
    "    for idx, profil in enumerate(nomList):\n",
    "        pro = [val[idx]]*nbCriteres\n",
    "        a = [profil]\n",
    "        a.extend(pro)\n",
    "        matrice.append(a)\n",
    "    return matrice"
   ]
  },
  {
   "cell_type": "code",
   "execution_count": null,
   "metadata": {
    "slideshow": {
     "slide_type": "slide"
    }
   },
   "outputs": [],
   "source": [
    "poids, mat, result,types = readFileCSVData('criteres.csv')\n",
    "nbCriteres = len(poids)"
   ]
  },
  {
   "cell_type": "code",
   "execution_count": null,
   "metadata": {
    "slideshow": {
     "slide_type": "skip"
    }
   },
   "outputs": [],
   "source": [
    "# Transformation structure mat\n",
    "flat_list = []\n",
    "for sublist in mat:\n",
    "    tempL=[]\n",
    "    for item in sublist:\n",
    "        if isinstance(item,list):\n",
    "            for note in item:\n",
    "                tempL.append(int(note))\n",
    "        else:\n",
    "            tempL.append(item)\n",
    "    flat_list.append(tempL)\n",
    "\n",
    "mat = flat_list"
   ]
  },
  {
   "cell_type": "code",
   "execution_count": null,
   "metadata": {
    "slideshow": {
     "slide_type": "subslide"
    }
   },
   "outputs": [],
   "source": [
    "# Chargement des profils, categories\n",
    "nomList = ['Profil 6 : Frontiere Le meilleur, impossible','Profil 5 : Dans les premiers','Profil 4 : Moyen +','Profil 3 : Moyen -','Profil 2 : Dans les derniers','Profil 1 : Frontiere Le pire,impossible']\n",
    "valuesList = [100,3,2,1,-1,-100]\n",
    "matrice_profils = createMatriceProfils(nomList,valuesList,nbCriteres)\n",
    "\n",
    "categorie = ['Très bon', 'Bon', 'Acceptable', 'Insuffisant', 'Inacceptable']\n"
   ]
  },
  {
   "cell_type": "markdown",
   "metadata": {
    "slideshow": {
     "slide_type": "slide"
    }
   },
   "source": [
    "**Question 6** : Lambda = 0.55"
   ]
  },
  {
   "cell_type": "code",
   "execution_count": null,
   "metadata": {
    "slideshow": {
     "slide_type": "fragment"
    }
   },
   "outputs": [],
   "source": [
    "op = EvalOptimiste(mat, matrice_profils, poids, types, 0.55)\n",
    "pe = EvalPessimiste(mat, matrice_profils, poids, types, 0.55)\n",
    "final_results = {key: [op[key], pe[key]] for key in op}"
   ]
  },
  {
   "cell_type": "code",
   "execution_count": null,
   "metadata": {
    "slideshow": {
     "slide_type": "fragment"
    }
   },
   "outputs": [],
   "source": [
    "df = pd.DataFrame(final_results)\n",
    "df = pd.DataFrame.from_records(final_results).T\n",
    "df.columns = ['Electre Optimiste', 'Electre Pessimiste']\n",
    "display(df)"
   ]
  },
  {
   "cell_type": "markdown",
   "metadata": {
    "slideshow": {
     "slide_type": "slide"
    }
   },
   "source": [
    "**Question 6** : Lambda = 0.75"
   ]
  },
  {
   "cell_type": "code",
   "execution_count": null,
   "metadata": {
    "slideshow": {
     "slide_type": "fragment"
    }
   },
   "outputs": [],
   "source": [
    "op = EvalOptimiste(mat, matrice_profils, poids, types, 0.75)\n",
    "pe = EvalPessimiste(mat, matrice_profils, poids, types, 0.75)\n",
    "final_results = {key: [op[key], pe[key]] for key in op}"
   ]
  },
  {
   "cell_type": "code",
   "execution_count": null,
   "metadata": {
    "slideshow": {
     "slide_type": "fragment"
    }
   },
   "outputs": [],
   "source": [
    "df = pd.DataFrame(final_results)\n",
    "df = pd.DataFrame.from_records(final_results).T\n",
    "df.columns = ['Electre Optimiste', 'Electre Pessimiste']\n",
    "display(df)"
   ]
  },
  {
   "cell_type": "markdown",
   "metadata": {
    "slideshow": {
     "slide_type": "slide"
    }
   },
   "source": [
    "**Question 7** : FIN TEMPORAIRE DU BOUZIN"
   ]
  },
  {
   "cell_type": "code",
   "execution_count": null,
   "metadata": {
    "slideshow": {
     "slide_type": "fragment"
    }
   },
   "outputs": [],
   "source": [
    "# TODO"
   ]
  },
  {
   "cell_type": "markdown",
   "metadata": {
    "slideshow": {
     "slide_type": "slide"
    }
   },
   "source": [
    "### Méthode 3 : Arbre de Décision"
   ]
  },
  {
   "cell_type": "markdown",
   "metadata": {
    "slideshow": {
     "slide_type": "subslide"
    }
   },
   "source": [
    "**Question 8**"
   ]
  },
  {
   "cell_type": "code",
   "execution_count": null,
   "metadata": {
    "slideshow": {
     "slide_type": "fragment"
    }
   },
   "outputs": [],
   "source": [
    "class decisionnode:\n",
    "    def __init__(self, col=-1, value=None, results=None, tb=None, fb=None):\n",
    "        self.col = col  # column index of criteria being tested\n",
    "        self.value = value  # vlaue necessary to get a true result\n",
    "        self.results = results  # dict of results for a branch, None for everything except endpoints\n",
    "        self.tb = tb  # true decision nodes\n",
    "        self.fb = fb  # false decision nodes\n",
    "\n",
    "# Divides a set on a specific column. Can handle numeric or nominal values\n",
    "\n",
    "def divideset(rows, column, value):\n",
    "    # Make a function that tells us if a row is in the first group\n",
    "    # (true) or the second group (false)\n",
    "    split_function = None\n",
    "    # for numerical values\n",
    "    if isinstance(value, int) or isinstance(value, float):\n",
    "        split_function = lambda row: row[column] >= value\n",
    "    # for nominal values\n",
    "    else:\n",
    "        split_function = lambda row: row[column] == value\n",
    "\n",
    "    # Divide the rows into two sets and return them\n",
    "    set1 = [row for row in rows if split_function(row)]  # if split_function(row)\n",
    "    set2 = [row for row in rows if not split_function(row)]\n",
    "    return (set1, set2)\n",
    "\n",
    "# Create counts of possible results (last column of each row is the result)\n",
    "def uniquecounts(rows):\n",
    "    results = {}\n",
    "    for row in rows:\n",
    "        # The result is the last column\n",
    "        r = row[len(row) - 1]\n",
    "        if r not in results: results[r] = 0\n",
    "        results[r] += 1\n",
    "    return results\n",
    "\n",
    "from collections import defaultdict\n",
    "\n",
    "def uniquecounts_dd(rows):\n",
    "    results = defaultdict(lambda: 0)\n",
    "    for row in rows:\n",
    "        r = row[len(row) - 1]\n",
    "        results[r] += 1\n",
    "    return dict(results)\n",
    "\n",
    "# Entropy is the sum of p(x)log(p(x)) across all the different possible results\n",
    "def entropy(rows):\n",
    "    from math import log\n",
    "    log2 = lambda x: log(x) / log(2)\n",
    "    results = uniquecounts(rows)\n",
    "    # Now calculate the entropy\n",
    "    ent = 0.0\n",
    "    for r in results.keys():\n",
    "        # current probability of class\n",
    "        p = float(results[r]) / len(rows)\n",
    "        ent = ent - p * log2(p)\n",
    "    return ent\n",
    "\n",
    "def buildtree(rows, scorefun=entropy):\n",
    "    if len(rows) == 0: return decisionnode()\n",
    "    current_score = scorefun(rows)\n",
    "\n",
    "    best_gain = 0.0\n",
    "    best_criteria = None\n",
    "    best_sets = None\n",
    "\n",
    "    column_count = len(rows[0]) - 1  # last column is result\n",
    "    for col in range(0, column_count):\n",
    "        # find different values in this column\n",
    "        column_values = set([row[col] for row in rows])\n",
    "\n",
    "        # for each possible value, try to divide on that value\n",
    "        for value in column_values:\n",
    "            set1, set2 = divideset(rows, col, value)\n",
    "\n",
    "            # Information gain\n",
    "            p = float(len(set1)) / len(rows)\n",
    "            gain = current_score - p * scorefun(set1) - (1 - p) * scorefun(set2)\n",
    "            if gain > best_gain and len(set1) > 0 and len(set2) > 0:\n",
    "                best_gain = gain\n",
    "                best_criteria = (col, value)\n",
    "                best_sets = (set1, set2)\n",
    "\n",
    "    if best_gain > 0:\n",
    "        trueBranch = buildtree(best_sets[0])\n",
    "        falseBranch = buildtree(best_sets[1])\n",
    "        return decisionnode(col=best_criteria[0], value=best_criteria[1],\n",
    "                            tb=trueBranch, fb=falseBranch)\n",
    "    else:\n",
    "        return decisionnode(results=uniquecounts(rows))\n",
    "\n",
    "\n",
    "def printtree(tree, indent=''):\n",
    "    # Is this a leaf node?\n",
    "    if tree.results != None:\n",
    "        print(str(tree.results))\n",
    "    else:\n",
    "        # Print the criteria\n",
    "        print('Column ' + str(tree.col) + ' : ' + str(tree.value) + '? ')\n",
    "        \n",
    "        # Print the branches\n",
    "        print(indent + 'True->', printtree(tree.tb, indent + '  '))\n",
    "        print(indent + 'False->',printtree(tree.fb, indent + '  '))"
   ]
  },
  {
   "cell_type": "code",
   "execution_count": null,
   "metadata": {
    "slideshow": {
     "slide_type": "subslide"
    }
   },
   "outputs": [],
   "source": [
    "my_data = [\n",
    "    [3, 3, 5],\n",
    "    [2, 2, 4],\n",
    "    [1, 3, 3],\n",
    "    [1, 3, 3],\n",
    "    [1, 1, 3],\n",
    "    [2, 1, 3],\n",
    "    [2, -1, 3],\n",
    "    [1, -1, 3],\n",
    "    [2, -1, 2],\n",
    "    [2, -2, 2],\n",
    "    [2, -2, 2],\n",
    "    [1, -2, 1]\n",
    "]"
   ]
  },
  {
   "cell_type": "code",
   "execution_count": null,
   "metadata": {
    "slideshow": {
     "slide_type": "subslide"
    }
   },
   "outputs": [],
   "source": [
    "printtree(buildtree(my_data))"
   ]
  },
  {
   "cell_type": "markdown",
   "metadata": {
    "slideshow": {
     "slide_type": "slide"
    }
   },
   "source": [
    "## Partie 2 : Comparatif Aérosols"
   ]
  },
  {
   "cell_type": "markdown",
   "metadata": {
    "slideshow": {
     "slide_type": "subslide"
    }
   },
   "source": [
    "### 1e Méthode : PL"
   ]
  },
  {
   "cell_type": "code",
   "execution_count": null,
   "metadata": {
    "slideshow": {
     "slide_type": "subslide"
    }
   },
   "outputs": [],
   "source": [
    "print(\"Question 2.1\")\n",
    "CheckAdditiveModel('criteresAEROSOL.csv', 'intervalles.csv', \"2.1\")\n",
    "print(\"----------------------------------------\")\n",
    "print(\"Question 2.2\")\n",
    "CheckAdditiveModel('criteresAEROSOL.csv', 'intervalles.csv', \"2.2\")\n",
    "print(\"----------------------------------------\")\n",
    "print(\"Question 3\")\n",
    "CheckAdditiveModel('criteresAEROSOL.csv', 'intervalles.csv', \"3\")\n",
    "print(\"----------------------------------------\")\n",
    "print(\"Question 4\")\n",
    "CheckAdditiveModel('criteresAEROSOL.csv', 'intervalles.csv', \"4\")\n",
    "print(\"----------------------------------------\")"
   ]
  },
  {
   "cell_type": "markdown",
   "metadata": {
    "slideshow": {
     "slide_type": "slide"
    }
   },
   "source": [
    "### 2e Méthode : ELECTRE TRI"
   ]
  },
  {
   "cell_type": "code",
   "execution_count": null,
   "metadata": {
    "slideshow": {
     "slide_type": "subslide"
    }
   },
   "outputs": [],
   "source": [
    "poids, mat, result,types = readFileCSVData('criteresAEROSOL.csv')\n",
    "### Transforming structure\n",
    "flat_list = []\n",
    "for sublist in mat:\n",
    "    tempL=[]\n",
    "    for item in sublist:\n",
    "        if isinstance(item,list):\n",
    "            for note in item:\n",
    "                tempL.append(int(note))\n",
    "        else:\n",
    "            tempL.append(item)\n",
    "    flat_list.append(tempL)\n",
    "mat = flat_list\n",
    "##\n",
    "# Creation matrice de profils\n",
    "nomList = ['Profil 6 : Frontiere Le meilleur, impossible','Profil 5 : Dans les premiers','Profil 4 : Moyen +','Profil 3 : Moyen -','Profil 2 : Dans les derniers','Profil 1 : Frontiere Le pire,impossible']\n",
    "valuesList = [100,3,2,1,-1,-100]\n",
    "nbCriteres = len(poids)\n",
    "matrice_profils = createMatriceProfils(nomList,valuesList,nbCriteres)\n",
    "categorie = ['Très bon', 'Bon', 'Acceptable', 'Insuffisant', 'Inacceptable']\n",
    "\n",
    "##\n",
    "op = EvalOptimiste(mat, matrice_profils, poids, types, 0.55)\n",
    "pe = EvalPessimiste(mat, matrice_profils, poids, types, 0.55)\n",
    "final_results = {key: [op[key], pe[key]] for key in op}\n",
    "df = pd.DataFrame(final_results)\n",
    "df = pd.DataFrame.from_records(final_results).T\n",
    "df.columns = ['Electre Optimiste', 'Electre Pessimiste']\n",
    "display(df)"
   ]
  },
  {
   "cell_type": "markdown",
   "metadata": {
    "slideshow": {
     "slide_type": "slide"
    }
   },
   "source": [
    "### 3e Méthode : Arbre de décision"
   ]
  },
  {
   "cell_type": "code",
   "execution_count": null,
   "metadata": {
    "slideshow": {
     "slide_type": "subslide"
    }
   },
   "outputs": [],
   "source": [
    "# code"
   ]
  },
  {
   "cell_type": "markdown",
   "metadata": {
    "slideshow": {
     "slide_type": "slide"
    }
   },
   "source": [
    "## Conclusion"
   ]
  },
  {
   "cell_type": "markdown",
   "metadata": {
    "slideshow": {
     "slide_type": "fragment"
    }
   },
   "source": [
    "**60 Millions de Consommateurs** fourni des comparatifs qui ne veulent rien dire mathématiquement parlant ; car on n'arrive pas à retrouver les coefficients / notes utilisés dans leurs comparatifs.\n",
    "Il parait plus intelligent de mettre en place une méthode et de l'expliquer : cette méthode peut être les coefficents, ELECTRE TRI, ou une un arbre de décision.  "
   ]
  },
  {
   "cell_type": "markdown",
   "metadata": {
    "slideshow": {
     "slide_type": "fragment"
    }
   },
   "source": [
    "Mais le plus important : **c'est de choisir une méthode et de _la rendre publique_**, et pas essayer de la cacher"
   ]
  }
 ],
 "metadata": {
  "celltoolbar": "Slideshow",
  "kernelspec": {
   "display_name": "Python 3.7 64 Bits",
   "language": "python",
   "name": "python37-64"
  },
  "language_info": {
   "codemirror_mode": {
    "name": "ipython",
    "version": 3
   },
   "file_extension": ".py",
   "mimetype": "text/x-python",
   "name": "python",
   "nbconvert_exporter": "python",
   "pygments_lexer": "ipython3",
   "version": "3.7.0"
  },
  "livereveal": {
   "autolaunch": true
  }
 },
 "nbformat": 4,
 "nbformat_minor": 1
}
